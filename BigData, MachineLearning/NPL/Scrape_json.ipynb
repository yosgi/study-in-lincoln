{
  "cells": [
    {
      "cell_type": "markdown",
      "source": [
        "# Scraping and Summarizing News"
      ],
      "metadata": {
        "id": "Pq1pSlxYuSUG"
      }
    },
    {
      "cell_type": "markdown",
      "metadata": {
        "id": "qBaZML6Qyd2l"
      },
      "source": [
        "# 1. Install and Import Baseline Dependencies"
      ]
    },
    {
      "cell_type": "code",
      "execution_count": 1,
      "metadata": {
        "collapsed": true,
        "id": "yqW4lGXryd2r",
        "colab": {
          "base_uri": "https://localhost:8080/"
        },
        "outputId": "1288375d-db16-42ba-d8fe-03e6aa9c761e"
      },
      "outputs": [
        {
          "output_type": "stream",
          "name": "stdout",
          "text": [
            "Requirement already satisfied: transformers in /usr/local/lib/python3.10/dist-packages (4.44.2)\n",
            "Requirement already satisfied: filelock in /usr/local/lib/python3.10/dist-packages (from transformers) (3.16.1)\n",
            "Requirement already satisfied: huggingface-hub<1.0,>=0.23.2 in /usr/local/lib/python3.10/dist-packages (from transformers) (0.24.7)\n",
            "Requirement already satisfied: numpy>=1.17 in /usr/local/lib/python3.10/dist-packages (from transformers) (1.26.4)\n",
            "Requirement already satisfied: packaging>=20.0 in /usr/local/lib/python3.10/dist-packages (from transformers) (24.1)\n",
            "Requirement already satisfied: pyyaml>=5.1 in /usr/local/lib/python3.10/dist-packages (from transformers) (6.0.2)\n",
            "Requirement already satisfied: regex!=2019.12.17 in /usr/local/lib/python3.10/dist-packages (from transformers) (2024.9.11)\n",
            "Requirement already satisfied: requests in /usr/local/lib/python3.10/dist-packages (from transformers) (2.32.3)\n",
            "Requirement already satisfied: safetensors>=0.4.1 in /usr/local/lib/python3.10/dist-packages (from transformers) (0.4.5)\n",
            "Requirement already satisfied: tokenizers<0.20,>=0.19 in /usr/local/lib/python3.10/dist-packages (from transformers) (0.19.1)\n",
            "Requirement already satisfied: tqdm>=4.27 in /usr/local/lib/python3.10/dist-packages (from transformers) (4.66.5)\n",
            "Requirement already satisfied: fsspec>=2023.5.0 in /usr/local/lib/python3.10/dist-packages (from huggingface-hub<1.0,>=0.23.2->transformers) (2024.6.1)\n",
            "Requirement already satisfied: typing-extensions>=3.7.4.3 in /usr/local/lib/python3.10/dist-packages (from huggingface-hub<1.0,>=0.23.2->transformers) (4.12.2)\n",
            "Requirement already satisfied: charset-normalizer<4,>=2 in /usr/local/lib/python3.10/dist-packages (from requests->transformers) (3.3.2)\n",
            "Requirement already satisfied: idna<4,>=2.5 in /usr/local/lib/python3.10/dist-packages (from requests->transformers) (3.10)\n",
            "Requirement already satisfied: urllib3<3,>=1.21.1 in /usr/local/lib/python3.10/dist-packages (from requests->transformers) (2.2.3)\n",
            "Requirement already satisfied: certifi>=2017.4.17 in /usr/local/lib/python3.10/dist-packages (from requests->transformers) (2024.8.30)\n"
          ]
        }
      ],
      "source": [
        "!pip install transformers"
      ]
    },
    {
      "cell_type": "code",
      "source": [
        "!pip install sentencepiece"
      ],
      "metadata": {
        "id": "1g5mA3xOy3iu",
        "colab": {
          "base_uri": "https://localhost:8080/"
        },
        "outputId": "23061b2e-2983-4c82-82a3-0c8cd4f98cc8"
      },
      "execution_count": 2,
      "outputs": [
        {
          "output_type": "stream",
          "name": "stdout",
          "text": [
            "Requirement already satisfied: sentencepiece in /usr/local/lib/python3.10/dist-packages (0.2.0)\n"
          ]
        }
      ]
    },
    {
      "cell_type": "code",
      "execution_count": 3,
      "metadata": {
        "id": "P9O7cl5xyd2w"
      },
      "outputs": [],
      "source": [
        "from transformers import PegasusForConditionalGeneration, AutoTokenizer\n",
        "from bs4 import BeautifulSoup\n",
        "import requests"
      ]
    },
    {
      "cell_type": "markdown",
      "metadata": {
        "id": "w8mgnoAqyd2x"
      },
      "source": [
        "# 2. Setup Summarization Model"
      ]
    },
    {
      "cell_type": "code",
      "execution_count": 4,
      "metadata": {
        "id": "kMOnlOZfyd2x",
        "colab": {
          "base_uri": "https://localhost:8080/",
          "height": 371,
          "referenced_widgets": [
            "cb3a5a308f5c48d2841cd6e7a45ce802",
            "514d80cb43f34f728578610354a036b1",
            "412f6c4ac1e44d0b9330649f7313a7ca",
            "7a61ad81970e421494d173d8658bd8de",
            "6fcc17df9117452f8ede8482e8e83337",
            "2d5b52a8cd7b4bb08a65e14c7cef5122",
            "8f9fed5700a94b5884d7b2cdc822c681",
            "3d1039f5afc94d06bf7d7a8d6fe2ecd7",
            "b64ac9f0b0ba4a6495b8a03afdb2e678",
            "3aba1f51f1f2458bae0891c8a3ca3c8e",
            "00ef332fa1db4b688eb22d620fb3bd32",
            "301f39b5e29d4e88b223420b7841c5f5",
            "908bb1fc74b54265b2e28e5a91a2172a",
            "9479f030d70140b5bee5361e46683122",
            "719ce28fecfa4f9cb970d24658f57665",
            "5fa4bdb214004731bd34588f98fdfb2b",
            "7d5094a8163841e19767dc1a585eb9b6",
            "36d947ea432b4006a5d9111a850751cc",
            "2f981ce6f29c4d2db53694e93bde9f1e",
            "7386bba8bd924152847e8d59294ae954",
            "215d3992590149fa85cb5adc336e1fb4",
            "bc15fa700b484ac8b12a70cc5b2bc7f9",
            "186e010cc7904523be628e1a47153a72",
            "3d4536faac824abb98af0cbbb036ecb8",
            "37f5d4d2b5fc407aa854c29bee75dfaa",
            "4f2108bf82d84db69e70839564057107",
            "ff1c619aa5c0495baa3d47ad7dc98329",
            "414aba7eb929472ea4b87dff7c9aa9db",
            "f3dda637101141868da2b6fdfa249ae2",
            "2e873a218a5043b49d1ce5a9cbf53d2e",
            "bc66cac08362457e9b4a6fdb3b81cd71",
            "2e2c6c0c1c104ae396f5380e2f41477b",
            "d81e151aff6b4c00abb91a443c5835ce",
            "ee04e1f455134585a3d50ddcbfac0f5d",
            "86d0c8231d1946b4a6fe11ba8f60868d",
            "665bf9036eba4442ad525ea215b01194",
            "c40d637d8c5a4e239850543db9429d91",
            "d011813b60d7494f975be2759511c8d2",
            "a7c38a79ac754eecb508b472a9d0bd93",
            "96615c874ff04c5981364bffdc6f23f0",
            "b80eed5f62bc414a90676238f8cf4de7",
            "49f9df2c9b254309b155e15b07a1c6e0",
            "23363394361d4bbeb977dd286c5e5560",
            "0f67aa7f127d434c830ffc0f4c4661f8",
            "511a9419ffa94796887e89fc999018b3",
            "a641c40ade0b41dbbfcc1167c9db5585",
            "94cd57f64cb441a4822f189a74f9b3f5",
            "81cd154457f74ed9b483ac7bbb75aed3",
            "be7a7a4bdce84cf29ec8e5088bcf3025",
            "8fef7ca4e6a4401ab657bc7adb31fde6",
            "ceb495f297d749bc8dbb2a9419c181cf",
            "52cf81fd881b4253bb49755f520d0069",
            "76232f076e684df094aee2e53dae3660",
            "643cef8b9f0945f88d45a09030aea850",
            "520b67deae494c51b97005206227bec1"
          ]
        },
        "outputId": "4cd0c2da-4a85-4d7d-8327-8b764e49b0c3"
      },
      "outputs": [
        {
          "output_type": "stream",
          "name": "stderr",
          "text": [
            "/usr/local/lib/python3.10/dist-packages/huggingface_hub/utils/_token.py:89: UserWarning: \n",
            "The secret `HF_TOKEN` does not exist in your Colab secrets.\n",
            "To authenticate with the Hugging Face Hub, create a token in your settings tab (https://huggingface.co/settings/tokens), set it as secret in your Google Colab and restart your session.\n",
            "You will be able to reuse this secret in all of your notebooks.\n",
            "Please note that authentication is recommended but still optional to access public models or datasets.\n",
            "  warnings.warn(\n"
          ]
        },
        {
          "output_type": "display_data",
          "data": {
            "text/plain": [
              "tokenizer_config.json:   0%|          | 0.00/1.44k [00:00<?, ?B/s]"
            ],
            "application/vnd.jupyter.widget-view+json": {
              "version_major": 2,
              "version_minor": 0,
              "model_id": "cb3a5a308f5c48d2841cd6e7a45ce802"
            }
          },
          "metadata": {}
        },
        {
          "output_type": "display_data",
          "data": {
            "text/plain": [
              "config.json:   0%|          | 0.00/1.27k [00:00<?, ?B/s]"
            ],
            "application/vnd.jupyter.widget-view+json": {
              "version_major": 2,
              "version_minor": 0,
              "model_id": "301f39b5e29d4e88b223420b7841c5f5"
            }
          },
          "metadata": {}
        },
        {
          "output_type": "display_data",
          "data": {
            "text/plain": [
              "spiece.model:   0%|          | 0.00/1.91M [00:00<?, ?B/s]"
            ],
            "application/vnd.jupyter.widget-view+json": {
              "version_major": 2,
              "version_minor": 0,
              "model_id": "186e010cc7904523be628e1a47153a72"
            }
          },
          "metadata": {}
        },
        {
          "output_type": "display_data",
          "data": {
            "text/plain": [
              "special_tokens_map.json:   0%|          | 0.00/1.34k [00:00<?, ?B/s]"
            ],
            "application/vnd.jupyter.widget-view+json": {
              "version_major": 2,
              "version_minor": 0,
              "model_id": "ee04e1f455134585a3d50ddcbfac0f5d"
            }
          },
          "metadata": {}
        },
        {
          "output_type": "stream",
          "name": "stderr",
          "text": [
            "/usr/local/lib/python3.10/dist-packages/transformers/tokenization_utils_base.py:1601: FutureWarning: `clean_up_tokenization_spaces` was not set. It will be set to `True` by default. This behavior will be depracted in transformers v4.45, and will be then set to `False` by default. For more details check this issue: https://github.com/huggingface/transformers/issues/31884\n",
            "  warnings.warn(\n"
          ]
        },
        {
          "output_type": "display_data",
          "data": {
            "text/plain": [
              "model.safetensors:   0%|          | 0.00/2.28G [00:00<?, ?B/s]"
            ],
            "application/vnd.jupyter.widget-view+json": {
              "version_major": 2,
              "version_minor": 0,
              "model_id": "511a9419ffa94796887e89fc999018b3"
            }
          },
          "metadata": {}
        },
        {
          "output_type": "stream",
          "name": "stderr",
          "text": [
            "Some weights of PegasusForConditionalGeneration were not initialized from the model checkpoint at human-centered-summarization/financial-summarization-pegasus and are newly initialized: ['model.decoder.embed_positions.weight', 'model.encoder.embed_positions.weight']\n",
            "You should probably TRAIN this model on a down-stream task to be able to use it for predictions and inference.\n"
          ]
        }
      ],
      "source": [
        "model_name = \"human-centered-summarization/financial-summarization-pegasus\"\n",
        "tokenizer = AutoTokenizer.from_pretrained(model_name)\n",
        "model = PegasusForConditionalGeneration.from_pretrained(model_name)"
      ]
    },
    {
      "cell_type": "markdown",
      "metadata": {
        "id": "rdCIS9iKyd2y"
      },
      "source": [
        "# 3. Summarize a Single Article"
      ]
    },
    {
      "cell_type": "code",
      "execution_count": 5,
      "metadata": {
        "id": "GPt5o7l4yd2y"
      },
      "outputs": [],
      "source": [
        "url = \"https://nz.yahoo.com/news/no-donald-trump-isn-t-195944759.html\"\n",
        "r = requests.get(url)\n",
        "soup = BeautifulSoup(r.text, 'html.parser')\n",
        "paragraphs = soup.find_all('p')"
      ]
    },
    {
      "cell_type": "code",
      "execution_count": 6,
      "metadata": {
        "id": "q8n10FaFyd2z",
        "colab": {
          "base_uri": "https://localhost:8080/",
          "height": 35
        },
        "outputId": "1d2853ef-1829-4ffe-844a-e2cbc052a913"
      },
      "outputs": [
        {
          "output_type": "execute_result",
          "data": {
            "text/plain": [
              "'An image depicting former president Donald Trump wading through floodwaters alongside a fellow disaster responder went viral on social media this week.'"
            ],
            "application/vnd.google.colaboratory.intrinsic+json": {
              "type": "string"
            }
          },
          "metadata": {},
          "execution_count": 6
        }
      ],
      "source": [
        "paragraphs[0].text"
      ]
    },
    {
      "cell_type": "code",
      "execution_count": 7,
      "metadata": {
        "id": "w0LINDvxyd20"
      },
      "outputs": [],
      "source": [
        "text = [paragraph.text for paragraph in paragraphs]\n",
        "words = ' '.join(text).split(' ')[:400]\n",
        "ARTICLE = ' '.join(words)"
      ]
    },
    {
      "cell_type": "code",
      "execution_count": 8,
      "metadata": {
        "id": "t8euROXcyd22",
        "colab": {
          "base_uri": "https://localhost:8080/",
          "height": 87
        },
        "outputId": "fe57f332-240d-476a-e209-4fb0dded7b5d"
      },
      "outputs": [
        {
          "output_type": "execute_result",
          "data": {
            "text/plain": [
              "'An image depicting former president Donald Trump wading through floodwaters alongside a fellow disaster responder went viral on social media this week. But there\\'s one tiny problem: the image is an AI-generated fake, as multiple publications\\xa0have confirmed. The image, which shows Trump wearing a lifejacket and blue jeans as he marches through thigh-high waters, first picked up steam on Facebook last weekend. And it doesn\\'t hold up to virtually any degree of scrutiny. Trump\\'s right hand is distorted, and the lettering pictured on either man\\'s clothing is completely illegible. The former president has visited some areas impacted by the storm, but there are no credible reports of the candidate physically going into floodwaters in blue jeans, making it only the latest instance of highly politicized AI slop ahead of the presidential elections next month. As of publishing this article, the image has garnered over ten thousand likes on Facebook. \"I don\\'t think FB wants this picture on FB,\" the poster wrote in a caption, implying the social media giant may have been removing the post for political reasons. \"They have been deleting it.\" Despite alleged censorship, the image was shared roughly 160,000 times in just two days, according to a fact check from USA Today. (The photo is still live on Facebook, though has been flagged with an \"altered photo\" warning and a link to an independent, third-party fact check.) The image quickly spread to other corners of social media, where users captioned the synthetic image with notes about how \"they don\\'t want you to see this side of Trump\" and messages to leaders to \"not tell me how much you care about Americans... show me though [sic] your actions.\" The fake image of Trump is one of many AI-generated fake photos to circulate in the wake of the deadly storm, which wrought extensive damage throughout parts of Appalachia. Other AI-generated images of alleged hurricane devastation have depicted scenes like flooded homes, abandoned, sad-looking dogs on roofs, and men in knee-high water barbequing. Most notably, a widely-shared AI image showing a crying young girl clutching a puppy while evacuating in a canoe has made its rounds on X-formerly-Twitter, where it\\'s been repeatedly shared by right-wing influencers and close Trump allies. As far as the health of our information world goes, the apparent believability of these images is troubling. The fact that so many netizens are taking clearly AI-generated images at'"
            ],
            "application/vnd.google.colaboratory.intrinsic+json": {
              "type": "string"
            }
          },
          "metadata": {},
          "execution_count": 8
        }
      ],
      "source": [
        "ARTICLE"
      ]
    },
    {
      "cell_type": "code",
      "execution_count": 9,
      "metadata": {
        "id": "EAzToIZxyd23"
      },
      "outputs": [],
      "source": [
        "input_ids = tokenizer.encode(ARTICLE, return_tensors='pt')\n",
        "output = model.generate(input_ids, max_length=55, num_beams=5, early_stopping=True)\n",
        "summary = tokenizer.decode(output[0], skip_special_tokens=True)"
      ]
    },
    {
      "cell_type": "code",
      "execution_count": 10,
      "metadata": {
        "id": "bIX1OrNjyd23",
        "colab": {
          "base_uri": "https://localhost:8080/",
          "height": 35
        },
        "outputId": "a72270ab-46dc-4ecf-82d6-7a1865a02315"
      },
      "outputs": [
        {
          "output_type": "execute_result",
          "data": {
            "text/plain": [
              "'Machine-generated images are circulating in the wake of Hurricane Florence.'"
            ],
            "application/vnd.google.colaboratory.intrinsic+json": {
              "type": "string"
            }
          },
          "metadata": {},
          "execution_count": 10
        }
      ],
      "source": [
        "summary"
      ]
    },
    {
      "cell_type": "markdown",
      "metadata": {
        "id": "FzKdtSLhyd26"
      },
      "source": [
        "# 4. Building a News and Sentiment Pipeline"
      ]
    },
    {
      "cell_type": "code",
      "execution_count": 36,
      "metadata": {
        "id": "xtPcsBVByd26"
      },
      "outputs": [],
      "source": [
        "#monitored_tickers = ['TSLA', 'BTC']\n",
        "monitored_tickers = ['TSLA']"
      ]
    },
    {
      "cell_type": "markdown",
      "metadata": {
        "id": "_JwnKkkWyd26"
      },
      "source": [
        "## 4.1. Search for Stock News using Google and Yahoo Finance"
      ]
    },
    {
      "cell_type": "markdown",
      "source": [
        "Google search: yahoo finance {}, and click News."
      ],
      "metadata": {
        "id": "LVX4Fn5OWDzt"
      }
    },
    {
      "cell_type": "code",
      "execution_count": 37,
      "metadata": {
        "id": "42Gq3Xx6yd28"
      },
      "outputs": [],
      "source": [
        "def search_for_stock_news_urls(ticker):\n",
        "    search_url = \"https://www.google.com/search?q=yahoo+finance+{}&tbm=nws\".format(ticker)\n",
        "    r = requests.get(search_url)\n",
        "    soup = BeautifulSoup(r.text, 'html.parser')\n",
        "    atags = soup.find_all('a')\n",
        "    hrefs = [link['href'] for link in atags]\n",
        "    return hrefs"
      ]
    },
    {
      "cell_type": "code",
      "execution_count": 38,
      "metadata": {
        "id": "yatCT_uOyd29",
        "colab": {
          "base_uri": "https://localhost:8080/"
        },
        "outputId": "dc234d94-1505-403d-c30c-db7a07c47018"
      },
      "outputs": [
        {
          "output_type": "execute_result",
          "data": {
            "text/plain": [
              "{'TSLA': ['/?sa=X&ved=0ahUKEwiktfLZpIaJAxXgHjQIHak8DMQQOwgC',\n",
              "  '/search?q=yahoo+finance+TSLA&sca_esv=a4f4a06d7248b912&ie=UTF-8&tbm=nws&gbv=1&sei=YRQJZ-SAHuC90PEPqfmwoAw',\n",
              "  '/search?q=yahoo+finance+TSLA&sca_esv=a4f4a06d7248b912&ie=UTF-8&source=lnms&sa=X&ved=0ahUKEwiktfLZpIaJAxXgHjQIHak8DMQQ_AUIBSgA',\n",
              "  '/search?q=yahoo+finance+TSLA&sca_esv=a4f4a06d7248b912&ie=UTF-8&tbm=isch&source=lnms&sa=X&ved=0ahUKEwiktfLZpIaJAxXgHjQIHak8DMQQ_AUIBygC',\n",
              "  '/search?q=yahoo+finance+TSLA&sca_esv=a4f4a06d7248b912&ie=UTF-8&tbm=vid&source=lnms&sa=X&ved=0ahUKEwiktfLZpIaJAxXgHjQIHak8DMQQ_AUICCgD',\n",
              "  '/url?q=https://maps.google.com/maps%3Fq%3Dyahoo%2Bfinance%2BTSLA%26um%3D1%26ie%3DUTF-8%26ved%3D1t:200713%26ictx%3D111&opi=89978449&sa=U&ved=0ahUKEwiktfLZpIaJAxXgHjQIHak8DMQQiaAMCAkoBA&usg=AOvVaw3S7p1PojgyDuC-a6M2ESur',\n",
              "  '/url?q=/search%3Fq%3Dyahoo%2Bfinance%2BTSLA%26sca_esv%3Da4f4a06d7248b912%26ie%3DUTF-8%26tbm%3Dshop%26source%3Dlnms%26ved%3D1t:200713%26ictx%3D111&opi=89978449&sa=U&ved=0ahUKEwiktfLZpIaJAxXgHjQIHak8DMQQiaAMCAooBQ&usg=AOvVaw3bCNEcyqdebdczPgeaaIG7',\n",
              "  '/search?q=yahoo+finance+TSLA&sca_esv=a4f4a06d7248b912&ie=UTF-8&tbm=bks&source=lnms&sa=X&ved=0ahUKEwiktfLZpIaJAxXgHjQIHak8DMQQ_AUICygG',\n",
              "  '/advanced_search',\n",
              "  '/search?q=yahoo+finance+TSLA&sca_esv=a4f4a06d7248b912&ie=UTF-8&tbm=nws&source=lnt&tbs=qdr:h&sa=X&ved=0ahUKEwiktfLZpIaJAxXgHjQIHak8DMQQpwUIDQ',\n",
              "  '/search?q=yahoo+finance+TSLA&sca_esv=a4f4a06d7248b912&ie=UTF-8&tbm=nws&source=lnt&tbs=qdr:d&sa=X&ved=0ahUKEwiktfLZpIaJAxXgHjQIHak8DMQQpwUIDg',\n",
              "  '/search?q=yahoo+finance+TSLA&sca_esv=a4f4a06d7248b912&ie=UTF-8&tbm=nws&source=lnt&tbs=qdr:w&sa=X&ved=0ahUKEwiktfLZpIaJAxXgHjQIHak8DMQQpwUIDw',\n",
              "  '/search?q=yahoo+finance+TSLA&sca_esv=a4f4a06d7248b912&ie=UTF-8&tbm=nws&source=lnt&tbs=qdr:m&sa=X&ved=0ahUKEwiktfLZpIaJAxXgHjQIHak8DMQQpwUIEA',\n",
              "  '/search?q=yahoo+finance+TSLA&sca_esv=a4f4a06d7248b912&ie=UTF-8&tbm=nws&source=lnt&tbs=qdr:y&sa=X&ved=0ahUKEwiktfLZpIaJAxXgHjQIHak8DMQQpwUIEQ',\n",
              "  '/search?q=yahoo+finance+TSLA&sca_esv=a4f4a06d7248b912&ie=UTF-8&tbm=nws&source=lnt&tbs=ar:1&sa=X&ved=0ahUKEwiktfLZpIaJAxXgHjQIHak8DMQQpwUIEg',\n",
              "  '/search?q=yahoo+finance+TSLA&sca_esv=a4f4a06d7248b912&ie=UTF-8&tbm=nws&source=lnt&tbs=sbd:1&sa=X&ved=0ahUKEwiktfLZpIaJAxXgHjQIHak8DMQQpwUIFA',\n",
              "  '/url?q=https://finance.yahoo.com/news/teslas-cybercab-robotaxi-is-finally-here-with-a-30k-price-tag--plus-a-surprise-robovan-071844079.html&sa=U&ved=2ahUKEwiktfLZpIaJAxXgHjQIHak8DMQQxfQBegQIBBAC&usg=AOvVaw22jfZzsXFQztmjbjRKCh8b',\n",
              "  '/url?q=https://finance.yahoo.com/news/tesla-stock-short-sellers-favorite-185545686.html&sa=U&ved=2ahUKEwiktfLZpIaJAxXgHjQIHak8DMQQxfQBegQICRAC&usg=AOvVaw0NFS1hXrLeGAk7xtzCfWoF',\n",
              "  '/url?q=https://finance.yahoo.com/video/tesla-robotaxi-day-know-ahead-233000325.html&sa=U&ved=2ahUKEwiktfLZpIaJAxXgHjQIHak8DMQQxfQBegQIARAC&usg=AOvVaw1aNhew0jtzTherRF-6Es-M',\n",
              "  '/url?q=https://finance.yahoo.com/news/tesla-inc-tsla-stock-rich-063044616.html&sa=U&ved=2ahUKEwiktfLZpIaJAxXgHjQIHak8DMQQxfQBegQIABAC&usg=AOvVaw0-7A96-DF7dB6M_k9msijD',\n",
              "  '/url?q=https://finance.yahoo.com/news/tesla-robotaxi-event-long-promises-082325759.html&sa=U&ved=2ahUKEwiktfLZpIaJAxXgHjQIHak8DMQQxfQBegQICBAC&usg=AOvVaw0alN_lLW7NdSbDYtXiWQin',\n",
              "  '/url?q=https://finance.yahoo.com/news/cramer-says-buy-tesla-inc-220900728.html&sa=U&ved=2ahUKEwiktfLZpIaJAxXgHjQIHak8DMQQxfQBegQIAxAC&usg=AOvVaw2ZkapB2-92_lhNnfVi4sgR',\n",
              "  '/url?q=https://finance.yahoo.com/news/tesla-robotaxi-event-analysts-weigh-in-on-what-to-expect-from-ceo-elon-musks-big-moment-164748104.html&sa=U&ved=2ahUKEwiktfLZpIaJAxXgHjQIHak8DMQQxfQBegQIBxAC&usg=AOvVaw1ol0ugXJv19gPmDZx5VbZ2',\n",
              "  '/url?q=https://finance.yahoo.com/video/pfizer-starboard-value-tesla-robotaxi-221957862.html&sa=U&ved=2ahUKEwiktfLZpIaJAxXgHjQIHak8DMQQxfQBegQIBRAC&usg=AOvVaw2wkjoVC8psgvynzQ4kwBD8',\n",
              "  '/url?q=https://finance.yahoo.com/news/musk-shows-tesla-cybercab-sees-085158169.html&sa=U&ved=2ahUKEwiktfLZpIaJAxXgHjQIHak8DMQQxfQBegQIAhAC&usg=AOvVaw1p9zJ9saXla0Rj02OM0ujI',\n",
              "  '/url?q=https://finance.yahoo.com/quote/LCID/&sa=U&ved=2ahUKEwiktfLZpIaJAxXgHjQIHak8DMQQxfQBegQIBhAC&usg=AOvVaw1pVFkLMlz48bXl7Z86dcxK',\n",
              "  '/search?q=yahoo+finance+TSLA&sca_esv=a4f4a06d7248b912&ie=UTF-8&tbm=nws&ei=YRQJZ-SAHuC90PEPqfmwoAw&start=10&sa=N',\n",
              "  '/url?q=https://support.google.com/websearch%3Fp%3Dws_settings_location%26hl%3Den&opi=89978449&sa=U&ved=0ahUKEwiktfLZpIaJAxXgHjQIHak8DMQQty4IUw&usg=AOvVaw0fuLPFVjhhGO93C5b_2NSf',\n",
              "  '/url?q=https://accounts.google.com/ServiceLogin%3Fcontinue%3Dhttps://www.google.com/search%253Fq%253Dyahoo%252Bfinance%252BTSLA%2526tbm%253Dnws%26hl%3Den&opi=89978449&sa=U&ved=0ahUKEwiktfLZpIaJAxXgHjQIHak8DMQQxs8CCFQ&usg=AOvVaw282dpNvvIa_I0hRCgXpzus',\n",
              "  'https://www.google.com/preferences?hl=en&fg=1&sa=X&ved=0ahUKEwiktfLZpIaJAxXgHjQIHak8DMQQ5fUCCFU',\n",
              "  'https://policies.google.com/privacy?hl=en&fg=1',\n",
              "  'https://policies.google.com/terms?hl=en&fg=1',\n",
              "  '/setprefs?hl=en&prev=https://www.google.com/search?q%3Dyahoo%2Bfinance%2BTSLA%26tbm%3Dnws%26pccc%3D1&sig=0_C5UYn1XNNMJcbcv2p847ZfVr2uI%3D&cs=2&sa=X&ved=0ahUKEwiktfLZpIaJAxXgHjQIHak8DMQQjcAJCFY']}"
            ]
          },
          "metadata": {},
          "execution_count": 38
        }
      ],
      "source": [
        "raw_urls = {ticker:search_for_stock_news_urls(ticker) for ticker in monitored_tickers}\n",
        "raw_urls"
      ]
    },
    {
      "cell_type": "code",
      "execution_count": 40,
      "metadata": {
        "id": "uca0YzXAyd2_",
        "colab": {
          "base_uri": "https://localhost:8080/"
        },
        "outputId": "96f35383-fa71-4dc7-df24-8ecae3a9f9d1"
      },
      "outputs": [
        {
          "output_type": "execute_result",
          "data": {
            "text/plain": [
              "['/?sa=X&ved=0ahUKEwiktfLZpIaJAxXgHjQIHak8DMQQOwgC',\n",
              " '/search?q=yahoo+finance+TSLA&sca_esv=a4f4a06d7248b912&ie=UTF-8&tbm=nws&gbv=1&sei=YRQJZ-SAHuC90PEPqfmwoAw',\n",
              " '/search?q=yahoo+finance+TSLA&sca_esv=a4f4a06d7248b912&ie=UTF-8&source=lnms&sa=X&ved=0ahUKEwiktfLZpIaJAxXgHjQIHak8DMQQ_AUIBSgA',\n",
              " '/search?q=yahoo+finance+TSLA&sca_esv=a4f4a06d7248b912&ie=UTF-8&tbm=isch&source=lnms&sa=X&ved=0ahUKEwiktfLZpIaJAxXgHjQIHak8DMQQ_AUIBygC',\n",
              " '/search?q=yahoo+finance+TSLA&sca_esv=a4f4a06d7248b912&ie=UTF-8&tbm=vid&source=lnms&sa=X&ved=0ahUKEwiktfLZpIaJAxXgHjQIHak8DMQQ_AUICCgD',\n",
              " '/url?q=https://maps.google.com/maps%3Fq%3Dyahoo%2Bfinance%2BTSLA%26um%3D1%26ie%3DUTF-8%26ved%3D1t:200713%26ictx%3D111&opi=89978449&sa=U&ved=0ahUKEwiktfLZpIaJAxXgHjQIHak8DMQQiaAMCAkoBA&usg=AOvVaw3S7p1PojgyDuC-a6M2ESur',\n",
              " '/url?q=/search%3Fq%3Dyahoo%2Bfinance%2BTSLA%26sca_esv%3Da4f4a06d7248b912%26ie%3DUTF-8%26tbm%3Dshop%26source%3Dlnms%26ved%3D1t:200713%26ictx%3D111&opi=89978449&sa=U&ved=0ahUKEwiktfLZpIaJAxXgHjQIHak8DMQQiaAMCAooBQ&usg=AOvVaw3bCNEcyqdebdczPgeaaIG7',\n",
              " '/search?q=yahoo+finance+TSLA&sca_esv=a4f4a06d7248b912&ie=UTF-8&tbm=bks&source=lnms&sa=X&ved=0ahUKEwiktfLZpIaJAxXgHjQIHak8DMQQ_AUICygG',\n",
              " '/advanced_search',\n",
              " '/search?q=yahoo+finance+TSLA&sca_esv=a4f4a06d7248b912&ie=UTF-8&tbm=nws&source=lnt&tbs=qdr:h&sa=X&ved=0ahUKEwiktfLZpIaJAxXgHjQIHak8DMQQpwUIDQ',\n",
              " '/search?q=yahoo+finance+TSLA&sca_esv=a4f4a06d7248b912&ie=UTF-8&tbm=nws&source=lnt&tbs=qdr:d&sa=X&ved=0ahUKEwiktfLZpIaJAxXgHjQIHak8DMQQpwUIDg',\n",
              " '/search?q=yahoo+finance+TSLA&sca_esv=a4f4a06d7248b912&ie=UTF-8&tbm=nws&source=lnt&tbs=qdr:w&sa=X&ved=0ahUKEwiktfLZpIaJAxXgHjQIHak8DMQQpwUIDw',\n",
              " '/search?q=yahoo+finance+TSLA&sca_esv=a4f4a06d7248b912&ie=UTF-8&tbm=nws&source=lnt&tbs=qdr:m&sa=X&ved=0ahUKEwiktfLZpIaJAxXgHjQIHak8DMQQpwUIEA',\n",
              " '/search?q=yahoo+finance+TSLA&sca_esv=a4f4a06d7248b912&ie=UTF-8&tbm=nws&source=lnt&tbs=qdr:y&sa=X&ved=0ahUKEwiktfLZpIaJAxXgHjQIHak8DMQQpwUIEQ',\n",
              " '/search?q=yahoo+finance+TSLA&sca_esv=a4f4a06d7248b912&ie=UTF-8&tbm=nws&source=lnt&tbs=ar:1&sa=X&ved=0ahUKEwiktfLZpIaJAxXgHjQIHak8DMQQpwUIEg',\n",
              " '/search?q=yahoo+finance+TSLA&sca_esv=a4f4a06d7248b912&ie=UTF-8&tbm=nws&source=lnt&tbs=sbd:1&sa=X&ved=0ahUKEwiktfLZpIaJAxXgHjQIHak8DMQQpwUIFA',\n",
              " '/url?q=https://finance.yahoo.com/news/teslas-cybercab-robotaxi-is-finally-here-with-a-30k-price-tag--plus-a-surprise-robovan-071844079.html&sa=U&ved=2ahUKEwiktfLZpIaJAxXgHjQIHak8DMQQxfQBegQIBBAC&usg=AOvVaw22jfZzsXFQztmjbjRKCh8b',\n",
              " '/url?q=https://finance.yahoo.com/news/tesla-stock-short-sellers-favorite-185545686.html&sa=U&ved=2ahUKEwiktfLZpIaJAxXgHjQIHak8DMQQxfQBegQICRAC&usg=AOvVaw0NFS1hXrLeGAk7xtzCfWoF',\n",
              " '/url?q=https://finance.yahoo.com/video/tesla-robotaxi-day-know-ahead-233000325.html&sa=U&ved=2ahUKEwiktfLZpIaJAxXgHjQIHak8DMQQxfQBegQIARAC&usg=AOvVaw1aNhew0jtzTherRF-6Es-M',\n",
              " '/url?q=https://finance.yahoo.com/news/tesla-inc-tsla-stock-rich-063044616.html&sa=U&ved=2ahUKEwiktfLZpIaJAxXgHjQIHak8DMQQxfQBegQIABAC&usg=AOvVaw0-7A96-DF7dB6M_k9msijD',\n",
              " '/url?q=https://finance.yahoo.com/news/tesla-robotaxi-event-long-promises-082325759.html&sa=U&ved=2ahUKEwiktfLZpIaJAxXgHjQIHak8DMQQxfQBegQICBAC&usg=AOvVaw0alN_lLW7NdSbDYtXiWQin',\n",
              " '/url?q=https://finance.yahoo.com/news/cramer-says-buy-tesla-inc-220900728.html&sa=U&ved=2ahUKEwiktfLZpIaJAxXgHjQIHak8DMQQxfQBegQIAxAC&usg=AOvVaw2ZkapB2-92_lhNnfVi4sgR',\n",
              " '/url?q=https://finance.yahoo.com/news/tesla-robotaxi-event-analysts-weigh-in-on-what-to-expect-from-ceo-elon-musks-big-moment-164748104.html&sa=U&ved=2ahUKEwiktfLZpIaJAxXgHjQIHak8DMQQxfQBegQIBxAC&usg=AOvVaw1ol0ugXJv19gPmDZx5VbZ2',\n",
              " '/url?q=https://finance.yahoo.com/video/pfizer-starboard-value-tesla-robotaxi-221957862.html&sa=U&ved=2ahUKEwiktfLZpIaJAxXgHjQIHak8DMQQxfQBegQIBRAC&usg=AOvVaw2wkjoVC8psgvynzQ4kwBD8',\n",
              " '/url?q=https://finance.yahoo.com/news/musk-shows-tesla-cybercab-sees-085158169.html&sa=U&ved=2ahUKEwiktfLZpIaJAxXgHjQIHak8DMQQxfQBegQIAhAC&usg=AOvVaw1p9zJ9saXla0Rj02OM0ujI',\n",
              " '/url?q=https://finance.yahoo.com/quote/LCID/&sa=U&ved=2ahUKEwiktfLZpIaJAxXgHjQIHak8DMQQxfQBegQIBhAC&usg=AOvVaw1pVFkLMlz48bXl7Z86dcxK',\n",
              " '/search?q=yahoo+finance+TSLA&sca_esv=a4f4a06d7248b912&ie=UTF-8&tbm=nws&ei=YRQJZ-SAHuC90PEPqfmwoAw&start=10&sa=N',\n",
              " '/url?q=https://support.google.com/websearch%3Fp%3Dws_settings_location%26hl%3Den&opi=89978449&sa=U&ved=0ahUKEwiktfLZpIaJAxXgHjQIHak8DMQQty4IUw&usg=AOvVaw0fuLPFVjhhGO93C5b_2NSf',\n",
              " '/url?q=https://accounts.google.com/ServiceLogin%3Fcontinue%3Dhttps://www.google.com/search%253Fq%253Dyahoo%252Bfinance%252BTSLA%2526tbm%253Dnws%26hl%3Den&opi=89978449&sa=U&ved=0ahUKEwiktfLZpIaJAxXgHjQIHak8DMQQxs8CCFQ&usg=AOvVaw282dpNvvIa_I0hRCgXpzus',\n",
              " 'https://www.google.com/preferences?hl=en&fg=1&sa=X&ved=0ahUKEwiktfLZpIaJAxXgHjQIHak8DMQQ5fUCCFU',\n",
              " 'https://policies.google.com/privacy?hl=en&fg=1',\n",
              " 'https://policies.google.com/terms?hl=en&fg=1',\n",
              " '/setprefs?hl=en&prev=https://www.google.com/search?q%3Dyahoo%2Bfinance%2BTSLA%26tbm%3Dnws%26pccc%3D1&sig=0_C5UYn1XNNMJcbcv2p847ZfVr2uI%3D&cs=2&sa=X&ved=0ahUKEwiktfLZpIaJAxXgHjQIHak8DMQQjcAJCFY']"
            ]
          },
          "metadata": {},
          "execution_count": 40
        }
      ],
      "source": [
        "raw_urls['TSLA']"
      ]
    },
    {
      "cell_type": "markdown",
      "metadata": {
        "id": "6jMPDlpuyd3A"
      },
      "source": [
        "## 4.2. Strip out unwanted URLs"
      ]
    },
    {
      "cell_type": "code",
      "execution_count": 41,
      "metadata": {
        "id": "avZZQEAPyd3B"
      },
      "outputs": [],
      "source": [
        "import re"
      ]
    },
    {
      "cell_type": "code",
      "execution_count": 42,
      "metadata": {
        "id": "uxdtk63ayd3B"
      },
      "outputs": [],
      "source": [
        "exclude_list = ['maps', 'policies', 'preferences', 'accounts', 'support']"
      ]
    },
    {
      "cell_type": "code",
      "execution_count": 43,
      "metadata": {
        "id": "L4W41W7pyd3H"
      },
      "outputs": [],
      "source": [
        "def strip_unwanted_urls(urls, exclude_list):\n",
        "    val = []\n",
        "    for url in urls:\n",
        "        if 'https://' in url and not any(exclude_word in url for exclude_word in exclude_list):\n",
        "            res = re.findall(r'(https?://\\S+)', url)[0].split('&')[0]\n",
        "            val.append(res)\n",
        "    return list(set(val))"
      ]
    },
    {
      "cell_type": "code",
      "execution_count": 44,
      "metadata": {
        "id": "ijrLt_nWyd3I",
        "colab": {
          "base_uri": "https://localhost:8080/"
        },
        "outputId": "ea9ff997-82be-4464-fe74-4ca672fda660"
      },
      "outputs": [
        {
          "output_type": "execute_result",
          "data": {
            "text/plain": [
              "{'TSLA': ['https://www.google.com/search?q%3Dyahoo%2Bfinance%2BTSLA%26tbm%3Dnws%26pccc%3D1',\n",
              "  'https://finance.yahoo.com/news/musk-shows-tesla-cybercab-sees-085158169.html',\n",
              "  'https://finance.yahoo.com/news/tesla-inc-tsla-stock-rich-063044616.html',\n",
              "  'https://finance.yahoo.com/news/teslas-cybercab-robotaxi-is-finally-here-with-a-30k-price-tag--plus-a-surprise-robovan-071844079.html',\n",
              "  'https://finance.yahoo.com/news/tesla-robotaxi-event-analysts-weigh-in-on-what-to-expect-from-ceo-elon-musks-big-moment-164748104.html',\n",
              "  'https://finance.yahoo.com/news/tesla-stock-short-sellers-favorite-185545686.html',\n",
              "  'https://finance.yahoo.com/video/pfizer-starboard-value-tesla-robotaxi-221957862.html',\n",
              "  'https://finance.yahoo.com/news/tesla-robotaxi-event-long-promises-082325759.html',\n",
              "  'https://finance.yahoo.com/quote/LCID/',\n",
              "  'https://finance.yahoo.com/news/cramer-says-buy-tesla-inc-220900728.html',\n",
              "  'https://finance.yahoo.com/video/tesla-robotaxi-day-know-ahead-233000325.html']}"
            ]
          },
          "metadata": {},
          "execution_count": 44
        }
      ],
      "source": [
        "cleaned_urls = {ticker:strip_unwanted_urls(raw_urls[ticker], exclude_list) for ticker in monitored_tickers}\n",
        "cleaned_urls"
      ]
    },
    {
      "cell_type": "markdown",
      "metadata": {
        "id": "B8VvNoHmyd3I"
      },
      "source": [
        "## 4.3. Search and Scrape Cleaned URLs"
      ]
    },
    {
      "cell_type": "code",
      "execution_count": 45,
      "metadata": {
        "id": "nclJhgNyyd3J"
      },
      "outputs": [],
      "source": [
        "def scrape_and_process(URLs):\n",
        "    ARTICLES = []\n",
        "    for url in URLs:\n",
        "        r = requests.get(url)\n",
        "        soup = BeautifulSoup(r.text, 'html.parser')\n",
        "        paragraphs = soup.find_all('p')\n",
        "        text = [paragraph.text for paragraph in paragraphs]\n",
        "        words = ' '.join(text).split(' ')[:350]\n",
        "        ARTICLE = ' '.join(words)\n",
        "        ARTICLES.append(ARTICLE)\n",
        "    return ARTICLES"
      ]
    },
    {
      "cell_type": "code",
      "execution_count": 46,
      "metadata": {
        "id": "PZ3cqYCCyd3J",
        "colab": {
          "base_uri": "https://localhost:8080/"
        },
        "outputId": "a2cde8a9-8558-4201-d56d-ec7beac254b3"
      },
      "outputs": [
        {
          "output_type": "execute_result",
          "data": {
            "text/plain": [
              "{'TSLA': ['© 2024 - Privacy - Terms',\n",
              "  '(Bloomberg) -- Elon Musk’s unveiling of self-driving taxi prototypes let down some Tesla Inc. investors, with many expecting more particulars on how the carmaker can possibly pull off his latest robocar predictions. Most Read from Bloomberg The Cablebus Transformed Commutes in Mexico City’s Populous Outskirts San Francisco to Shut 9% of Public Schools Amid Budget Woes Chicago’s $1 Billion Budget Hole Exacerbated by School Turmoil Urban Heat Stress Is Another Disparity in the World’s Most Unequal Nation Should Evictions Be Banned After Hurricanes and Climate Disasters? The Tesla chief executive officer unveiled a slick two-seat sedan called Cybercab late Thursday, saying production may start in 2026 and that the vehicle could cost less than $30,000. Musk hitched a ride in one of the cars on his way to the stage at the automaker’s event in Burbank, California. He also showcased a futuristic-looking Robovan concept that he said could transport as many as 20 people, plus updated versions of Tesla’s humanoid robot, called Optimus. But the event didn’t address how Tesla will make the leap from selling advanced driver-assistance features to fully autonomous vehicles. Musk’s presentation lacked technical details and glossed over topics including regulation or whether the company will own and operate its own fleet of Cybercabs. The lack of specifics sent Tesla shares down as much 6.9% before the start of regular trading Friday. The stock had soared almost 70% since mid-April, largely in anticipation of the robotaxi event. Tesla has a track record of blowing past timelines Musk has offered for all manner of future products, and has had a particularly difficult time following through on his self-driving forecasts. The CEO told investors in 2019 that Tesla would have more than 1 million robotaxis on the road by the following year. The company hasn’t deployed a single autonomous vehicle in the years since. “The only specific was the $30,000 for a Cybercab,” said Nancy Tengler, the chief executive officer of Laffer Tengler Investments and a Tesla investor who attended the event. “The concepts were all grand. Is the idea super cool? Absolutely.” Tesla has for years been selling',\n",
              "  'We recently compiled a list of the\\xa010 stocks that will make you rich in 5-10 years.\\xa0In this article, we are going to take a look at where Tesla Inc. (NASDAQ:TSLA) stands against the other the Stock That Will Make You Rich in 5-10 Years. The US economy grew by 3% in the second quarter, and the stock market hit all-time highs in the third quarter, averting fears of a recession at hand. While the economy has remained resilient for the better part of the year, the US Federal Reserve’s 50 basis point rate cut surprised many analysts. Jamie Dimon believes the steep cut might be justified as geopolitical uncertainties can potentially disrupt the gains achieved by affecting supply chains and triggering uncertainties and fears in the market. READ ALSO:\\xa0Bill Ackman Stock Portfolio: 8 Top Stock Picks\\xa0and\\xa010 Blue-Chip Stocks to Buy at 52-Week Lows. Powell and other Fed officials are open to further lowering interest rates after last month’s half-point cut, but there’s market debate on the pace. Soaring tensions in the Middle East with Israel invading Lebanon and threatening to attack Iran have triggered a layer of uncertainty, which Dimon believes could have a significant impact on the economy. Consequently, the banker believes that the 50 basis point cut could offer the much-needed economic support as inflation continues to drop. Nevertheless, James Demerit, Main Street Research CIO, believes the upward momentum in the equity markets will persist as the macro environment improves. While valuations appear to have gotten out of hand, there are still opportunities for stocks trading below their fair value as the investment environment improves. Apart from the magnificent seven stocks whose valuations have gotten out of hand, other stocks are trading at 16 times earnings, which, according to Demmert, is cheap considering the strong fundamentals that support a further rally. Companies that have consistently grown sales and profits should continue delivering regardless of the uncertainties around the US election and soaring geopolitical tensions. According to Emily Bowersock Hill, CEO of Bowersock Capital Partners, it is time to be upbeat about the market heading into year-end. “The bull',\n",
              "  'Tesla (TSLA) and its CEO Elon Musk finally revealed the electric vehicle maker\\'s long-awaited driverless robotaxi on Thursday night, alongside a surprise — a larger autonomous Robovan designed to a lot more people. After an nearly one-hour delay, attendees at the “We, Robot” event in Los Angeles were given an up-close introduction to two of Tesla\\'s latest creations. Musk arrived via the robotaxi — dubbed \"Cybercab\" — which featured a Cybertruck-like light bar in the front, an small angular profile, scissor-like doors, and a minimalist interior. The Cybercab appeared to navigate the Warner Brothers Studios closed-course lot on the way to the event stage. As expected, the Cybercab features no steering wheels or pedals, so is designed to be fully autonomous. “We’ll move from supervised full self-driving, to unsupervised full self-driving,” Musk said, meaning the cars using this latest software will no longer need humans to interact if need be. Musk said he expects the small EV to cost less than $30,000 when it arrives some time in 2026, but before 2027. The Cybercab will charge up via wireless induction technology, possibly using mats or tracks on roads. Tesla will start unsupervised full self-driving (FSD) trials in Texas and California next year, with Model 3 and Model Y test vehicles. Musk said further unsupervised FSD trials will take place wherever regulators allow them. Wall Street analysts envision owners of the existing fleet of Teslas out on the road will be able to put those models on the company\\'s rideshare service, once the EVs are combined with FSD and Tesla’s upcoming rideshare mobility app. That would unlock a tremendous amount of value and would be a true game-changer, the analysts believe. Tesla did not reveal its upcoming lower-cost “next-gen” model, which many analysts had expected. Though it is possible the Cybercab is essentially sharing the same chassis as the new passenger vehicle, as the car maker has suggested in the past. The sub-$30K next-gen EV will arrive later this year, Tesla has previously confirmed. In an unexpected move, Tesla debuted the Robovan — a much larger EV with hidden wheels and',\n",
              "  'Wall Street analysts are weighing in on what they expect to hear from Tesla (TSLA) Thursday night at the company’s “We, Robot” event. While most don’t expect a fully functional robotaxi that can be deployed right away, it’s what CEO Elon Musk and Tesla can do to paint a picture of autonomous self-driving that the company envisions for the next five or 10 years down the road that matters. Possible leaks have already surfaced suggesting Tesla may strike a robo-delivery deal with DoorDash, for instance. (Yahoo Finance could not verify those reports.) Adam Jonas of Morgan Stanley, who named Tesla his “top pick” in the autos space, has nonetheless advised clients to “keep expectations well managed” for the event. What will most likely be on display is a demonstration of the latest iteration of Full Self-Driving (FSD) software and a demonstration of a fully autonomous \"cybercab\" in a closed or semi-closed course, Jonas wrote last month. But in a more recent note last week, Jonas said investors may hear more about how those cybercabs, or robotaxis, will be deployed. “It is our expectation that Tesla will offer a \\'dual\\' approach with respect to autonomous ridesharing: (1) the fully autonomous app-based cybercab and (2) a \\'supervised\\' autonomous/FSD rideshare service. We think the latter of these may get the most attention or have the greatest room to surprise investors, at least near term,” Jonas said. While the cybercab — a vehicle envisioned as one without a steering wheel or pedals — may be the natural fit for a robotaxi, Jonas believes it is the preexisting fleet of Teslas out on the road that, when combined with FSD and Tesla’s upcoming rideshare mobility app, will allow owners of those Tesla EVs to put those vehicles on Tesla’s rideshare service. The true game changer would be unlocking the potential of those vehicles, he said. A Tesla deal with DoorDash to deliver restaurant takeout could easily be envisioned as part of this service. Jonas and Morgan Stanley have an Overweight rating and a $310 price target on Tesla heading into the event. Other analysts believe',\n",
              "  'Luis Boza / NurPhoto / Getty Images  Tesla is set to reveal its long-awaited robotaxi Thursday, with some analysts skeptical. Meanwhile, Elon Musk\\'s EV company has returned to being the most shorted stock in the United States. Weakening fundamentals and discounting measures top the list of analyst concerns.  Tesla (TSLA) bulls have robotaxi fever. Shorts are betting they\\'ll be disappointed. As the EV giant prepares to unveil its robotaxi at its much-anticipated event Thursday, the company has found another way to grab the headlines: Elon Musk\\'s company has returned to its old position as the most shorted stock in the U.S. Meanwhile, the stock has been included in Wells Fargo’s latest trading ideas with an underweight call—and skepticism that the robotaxi will deliver on bulls\\' presumptions. According to data and tech firm Hazeltree, Elon Musk\\'s EV company was the most crowded shorted large-cap security in the Americas in September, returning to a position it held until July. Investors would be less interested in the company—whose stock price has largely recovered from the losses it experienced in the first half of the year—as demand for EVs cooled, though the excitement around the robotaxi could five the stock a boost. Tesla stock is up more than 40% since\\xa0April 5, when Musk announced plans for the robotaxi event, and it has\\xa0stayed elevated even after the event was delayed. Wells Fargo analyst Colin Langan, however, has given Tesla a $120 price target—half its current price—in the bank\\'s tactical trading ideas list for the fourth quarter. Langan wrote that he is skeptical Wednesday\\'s event will “match the high expectations from Tesla bulls, leaving investors to focus on weakening fundamentals.\" Those fundamentals include projections for moderating delivery growth as EV demand drops and the limited potential of discounting to boost sales. He also noted that Musk has promised robotaxis \"by year-end...for years\" but \"experts say the technology is years away & that TSLA’s autonomous technology comes with considerable safety concerns.\" Last week\\'s\\xa0delivery data sent Tesla stock lower\\xa0despite beating expectations, as analysts said investors may have wanted Tesla to deliver a stronger quarter. Tesla said',\n",
              "  'Thank you for your patience. Our engineers are working quickly to resolve the issue.',\n",
              "  'By Chris Kirkham LOS ANGELES (Reuters) - For a businessman who perpetually struggles with broken promises, Elon Musk gave himself quite a to-do list Thursday night at Tesla\\'s long-awaited Hollywood unveiling of its driverless robotaxis. After traversing the fake streets of the Warner Bros movie studio set in a sleek, silver two-door \"Cybercab\" prototype, Musk promised that the company\\'s popular Model 3 and Model Y vehicles would be able to operate without driver supervision in California and Texas by next year. He said the company would start building the fully autonomous Cybercab by 2026 at a price of less than $30,000, and showed off a robovan capable of transporting 20 people around town - products he said would reshape cities by \"turning parking lots into parks.\" Later came the dancing humanoid robots that also mixed drinks at the bar. Tesla will sell those, too, Musk said, eventually for $20,000 to $30,000 a piece. \"I think this will be the biggest product ever, of any kind,\" he declared. Thursday night\\'s electronic dance music-infused event had the signature trappings of Musk\\'s salesmanship, but some Tesla investors and experts said they were hoping for more concrete details on how the company plans to transform from an automaker into an autonomous driving and artificial intelligence titan with a solid business plan. \"His vision is lovely, but somebody has to actualize it,\" said Ross Gerber, a Tesla shareholder and CEO of Gerber Kawasaki Wealth and Investment Management. \"For now, for the next 24 months, Tesla has to sell EVs. Why aren\\'t we focused on that?\" Gerber said he was happy to see products like the Cybercab and the robovan, but hoped to also see a more traditional, lower-priced mass-market vehicle that the company could sell in the near future. Musk had for years pledged to sell a car expected to start at about $25,000, a promise that investors saw as critical to winning new customers. Reuters reported exclusively on April 5 that Tesla had abandoned this project, initially sending Tesla shares down. Musk responded by posting later that day on X that Tesla would unveil',\n",
              "  \"We are experiencing some temporary issues. The market data on this page is currently delayed. Please bear with us as we address this and restore your personalized lists. Lucid Group, Inc. a technology company, designs, engineers, manufactures, and sells electric vehicles (EV), EV powertrains, and battery systems. It also designs and develops proprietary software in-house for Lucid vehicles. The company sells vehicles directly to consumers through its retail sales network and direct online sales, including Lucid Financial Services. Lucid Group, Inc. was founded in 2007 and is headquartered in Newark, California. Lucid Group, Inc. operates as a subsidiary of Ayar Third Investment Company. 6,500 December 31 Consumer Cyclical    Auto Manufacturers    Lucid (LCID) stock gains after the electric vehicle (EV) maker reported an increase in deliveries. Ronald Jewsikow, Guggenheim Securities director of automotive equity research, joins Seana Smith and Brad Smith on Morning Brief to discuss what’s next for Lucid and EV demand. “I think Lucid has some catalysts on the horizon in terms of the gravity launch, which does unlock some [Total Addressable Market] TAM, but we've seen that the high-end electric SUV market is not as big as I think investors would have expected a few years ago. We've seen Rivian (RIVN) sales kind of stall out here, as well as Tesla's (TSLA) Model S and X sales,” Jewsikow tells Yahoo Finance. He says, “I think that until we get to the mass-market car, which for Lucid is 2026 and beyond, it's kind of there is a lack of catalyst to really drive growth and see that step function change, improvement in unit economics and profitability, which is tough for investors to underwrite.” “We've seen the same pressure on Rivian, which we're berated on just that this view that until 2026, there's no real catalyst to change EV demand if you don't have a mass-market product,” Jewsikow adds. For more expert insight and the latest market action, click here to watch this full episode of Morning Brief. This post was written by Naomi Buchanan. Trailing total returns as of 10/10/2024, which may include\",\n",
              "  'We recently published an article titled, 11 Stocks on Jim Cramer’s Radar Right Now. In this article, we are going to take a look at where Tesla, Inc. (NASDAQ:TSLA) stands against other stocks on Jim Cramer’s radar right now. In his recent episode of Mad Money, host Jim Cramer focused on the upcoming market events, emphasizing the importance of new consumer price index data alongside a series of reports as the earnings season kicks off. Cramer pointed out that the Labor Department’s nonfarm payroll report revealed significant job growth in September, surpassing expectations. He highlighted the significant rally in stocks on Friday, a response to better-than-expected job creation figures. The U.S. economy added 254,000 jobs in September, significantly exceeding Wall Street’s estimate of 150,000. Additionally, there were upward revisions for the previous two months, with 72,000 more jobs reported for July and August combined. Despite his initial expectation that stocks would decline as bond yields surged, Cramer noted the resilience in the market. He observed that people seemed to feel relief, thinking that a major economic downturn was not on the horizon, which prompted a flurry of buying activity in the stock market. He added, “Maybe we aren’t headed toward a landing at all.” He described the situation as quite unusual and, in his view, “quite exciting”. He mentioned that on Wednesday, the Federal Open Market Committee will publish notes from its last month’s meeting, which could clarify the central bank’s bold choice to cut interest rates by 50 basis points. According to Cramer, Wall Street is rife with speculation about the Federal Reserve’s future actions, especially following strong labor statistics released last Friday. As speculation swirls around whether the next cut will be 25 or 50 basis points, Cramer leaned towards the belief that it would likely be 25 or nothing at all. He added: “Then again, what really matters is the overall direction for rates, and that direction is most definitely lower, which is bullish for stocks.” He also mentioned that Friday would bring the producer price index report, which, like the consumer price index, will serve as',\n",
              "  'Thank you for your patience. Our engineers are working quickly to resolve the issue.']}"
            ]
          },
          "metadata": {},
          "execution_count": 46
        }
      ],
      "source": [
        "articles = {ticker:scrape_and_process(cleaned_urls[ticker]) for ticker in monitored_tickers}\n",
        "articles"
      ]
    },
    {
      "cell_type": "markdown",
      "metadata": {
        "id": "my4mVw1cyd3J"
      },
      "source": [
        "## 4.4. Summarise all Articles"
      ]
    },
    {
      "cell_type": "code",
      "execution_count": 47,
      "metadata": {
        "id": "GTcOLbKEyd3K"
      },
      "outputs": [],
      "source": [
        "def summarize(articles):\n",
        "    summaries = []\n",
        "    for article in articles:\n",
        "        input_ids = tokenizer.encode(article, return_tensors='pt', max_length=55, truncation=True)\n",
        "        output = model.generate(input_ids, max_length=55, num_beams=5, early_stopping=True)\n",
        "        summary = tokenizer.decode(output[0], skip_special_tokens=True)\n",
        "        summaries.append(summary)\n",
        "    return summaries"
      ]
    },
    {
      "cell_type": "code",
      "execution_count": 48,
      "metadata": {
        "collapsed": true,
        "id": "WWq9426lyd3K",
        "colab": {
          "base_uri": "https://localhost:8080/"
        },
        "outputId": "90d6f00b-7fff-4f2a-ef7e-0b55e398ddca"
      },
      "outputs": [
        {
          "output_type": "execute_result",
          "data": {
            "text/plain": [
              "{'TSLA': ['Your information may be shared with third parties.',\n",
              "  'Tesla unveils self-driving taxi prototypes in California. Investors expect more details on how the technology will work',\n",
              "  'Tesla is one of the 10 stocks that will make you rich in 5-10 years.',\n",
              "  'Musk unveiled a larger, self-driving Robovan at Tesla event.',\n",
              "  'Analysts expect Tesla to show off self-driving car at event. Most don’t expect a fully functional robotaxi right away',\n",
              "  'Shares of electric car maker are down more than 20% this year.',\n",
              "  'We are aware of the issue and are working to resolve it.',\n",
              "  'Tesla unveils driverless robotaxis in Hollywood.',\n",
              "  'Shares of the electric vehicle maker have more than doubled this year.',\n",
              "  'Tesla, Inc. stands against other stocks on Jim Cramer’s radar.',\n",
              "  'We are aware of the issue and are working to resolve it.']}"
            ]
          },
          "metadata": {},
          "execution_count": 48
        }
      ],
      "source": [
        "summaries = {ticker:summarize(articles[ticker]) for ticker in monitored_tickers}\n",
        "summaries"
      ]
    },
    {
      "cell_type": "markdown",
      "metadata": {
        "id": "03w7WgU8yd3L"
      },
      "source": [
        "# 5. Adding Sentiment Analysis"
      ]
    },
    {
      "cell_type": "code",
      "execution_count": 49,
      "metadata": {
        "id": "4nTvO-yfyd3L",
        "colab": {
          "base_uri": "https://localhost:8080/"
        },
        "outputId": "fb2d1594-7ccc-4faf-dbf1-600e98630166"
      },
      "outputs": [
        {
          "output_type": "stream",
          "name": "stderr",
          "text": [
            "No model was supplied, defaulted to distilbert/distilbert-base-uncased-finetuned-sst-2-english and revision af0f99b (https://huggingface.co/distilbert/distilbert-base-uncased-finetuned-sst-2-english).\n",
            "Using a pipeline without specifying a model name and revision in production is not recommended.\n"
          ]
        }
      ],
      "source": [
        "from transformers import pipeline\n",
        "sentiment = pipeline('sentiment-analysis')"
      ]
    },
    {
      "cell_type": "code",
      "execution_count": 50,
      "metadata": {
        "id": "rOCLHVxzyd3L",
        "colab": {
          "base_uri": "https://localhost:8080/"
        },
        "outputId": "5943cbd1-fa61-4022-a3e2-098842d88173"
      },
      "outputs": [
        {
          "output_type": "execute_result",
          "data": {
            "text/plain": [
              "[{'label': 'NEGATIVE', 'score': 0.9903545379638672},\n",
              " {'label': 'NEGATIVE', 'score': 0.9943777918815613},\n",
              " {'label': 'POSITIVE', 'score': 0.9995711445808411},\n",
              " {'label': 'POSITIVE', 'score': 0.990311861038208},\n",
              " {'label': 'NEGATIVE', 'score': 0.9942530989646912},\n",
              " {'label': 'NEGATIVE', 'score': 0.9996978044509888},\n",
              " {'label': 'POSITIVE', 'score': 0.9979088306427002},\n",
              " {'label': 'POSITIVE', 'score': 0.9570705890655518},\n",
              " {'label': 'POSITIVE', 'score': 0.996726393699646},\n",
              " {'label': 'NEGATIVE', 'score': 0.9937511086463928},\n",
              " {'label': 'POSITIVE', 'score': 0.9979088306427002}]"
            ]
          },
          "metadata": {},
          "execution_count": 50
        }
      ],
      "source": [
        "sentiment(summaries['TSLA'])"
      ]
    },
    {
      "cell_type": "code",
      "execution_count": 51,
      "metadata": {
        "id": "CLM41iAQyd3M",
        "colab": {
          "base_uri": "https://localhost:8080/"
        },
        "outputId": "039c1b65-b1ba-449a-93d7-53e97d7d63d1"
      },
      "outputs": [
        {
          "output_type": "execute_result",
          "data": {
            "text/plain": [
              "{'TSLA': [{'label': 'NEGATIVE', 'score': 0.9903545379638672},\n",
              "  {'label': 'NEGATIVE', 'score': 0.9943777918815613},\n",
              "  {'label': 'POSITIVE', 'score': 0.9995711445808411},\n",
              "  {'label': 'POSITIVE', 'score': 0.990311861038208},\n",
              "  {'label': 'NEGATIVE', 'score': 0.9942530989646912},\n",
              "  {'label': 'NEGATIVE', 'score': 0.9996978044509888},\n",
              "  {'label': 'POSITIVE', 'score': 0.9979088306427002},\n",
              "  {'label': 'POSITIVE', 'score': 0.9570705890655518},\n",
              "  {'label': 'POSITIVE', 'score': 0.996726393699646},\n",
              "  {'label': 'NEGATIVE', 'score': 0.9937511086463928},\n",
              "  {'label': 'POSITIVE', 'score': 0.9979088306427002}]}"
            ]
          },
          "metadata": {},
          "execution_count": 51
        }
      ],
      "source": [
        "scores = {ticker:sentiment(summaries[ticker]) for ticker in monitored_tickers}\n",
        "scores"
      ]
    },
    {
      "cell_type": "markdown",
      "metadata": {
        "id": "7CojreEjyd3Q"
      },
      "source": [
        "# 6. Exporting Results to CSV"
      ]
    },
    {
      "cell_type": "code",
      "execution_count": 52,
      "metadata": {
        "collapsed": true,
        "id": "fPMNPHHWyd3R",
        "colab": {
          "base_uri": "https://localhost:8080/"
        },
        "outputId": "497f8256-612a-44cd-9a90-1a8797a63923"
      },
      "outputs": [
        {
          "output_type": "execute_result",
          "data": {
            "text/plain": [
              "{'TSLA': ['Your information may be shared with third parties.',\n",
              "  'Tesla unveils self-driving taxi prototypes in California. Investors expect more details on how the technology will work',\n",
              "  'Tesla is one of the 10 stocks that will make you rich in 5-10 years.',\n",
              "  'Musk unveiled a larger, self-driving Robovan at Tesla event.',\n",
              "  'Analysts expect Tesla to show off self-driving car at event. Most don’t expect a fully functional robotaxi right away',\n",
              "  'Shares of electric car maker are down more than 20% this year.',\n",
              "  'We are aware of the issue and are working to resolve it.',\n",
              "  'Tesla unveils driverless robotaxis in Hollywood.',\n",
              "  'Shares of the electric vehicle maker have more than doubled this year.',\n",
              "  'Tesla, Inc. stands against other stocks on Jim Cramer’s radar.',\n",
              "  'We are aware of the issue and are working to resolve it.']}"
            ]
          },
          "metadata": {},
          "execution_count": 52
        }
      ],
      "source": [
        "summaries"
      ]
    },
    {
      "cell_type": "code",
      "execution_count": 53,
      "metadata": {
        "collapsed": true,
        "id": "ixl0Opsnyd3R",
        "colab": {
          "base_uri": "https://localhost:8080/"
        },
        "outputId": "173a8086-38cb-4107-c27a-4eecb9c49acd"
      },
      "outputs": [
        {
          "output_type": "execute_result",
          "data": {
            "text/plain": [
              "{'TSLA': [{'label': 'NEGATIVE', 'score': 0.9903545379638672},\n",
              "  {'label': 'NEGATIVE', 'score': 0.9943777918815613},\n",
              "  {'label': 'POSITIVE', 'score': 0.9995711445808411},\n",
              "  {'label': 'POSITIVE', 'score': 0.990311861038208},\n",
              "  {'label': 'NEGATIVE', 'score': 0.9942530989646912},\n",
              "  {'label': 'NEGATIVE', 'score': 0.9996978044509888},\n",
              "  {'label': 'POSITIVE', 'score': 0.9979088306427002},\n",
              "  {'label': 'POSITIVE', 'score': 0.9570705890655518},\n",
              "  {'label': 'POSITIVE', 'score': 0.996726393699646},\n",
              "  {'label': 'NEGATIVE', 'score': 0.9937511086463928},\n",
              "  {'label': 'POSITIVE', 'score': 0.9979088306427002}]}"
            ]
          },
          "metadata": {},
          "execution_count": 53
        }
      ],
      "source": [
        "scores"
      ]
    },
    {
      "cell_type": "code",
      "execution_count": 54,
      "metadata": {
        "collapsed": true,
        "id": "1BmtEsnDyd3R",
        "colab": {
          "base_uri": "https://localhost:8080/"
        },
        "outputId": "f222b53f-36c7-41b5-e04d-9982c6282ef4"
      },
      "outputs": [
        {
          "output_type": "execute_result",
          "data": {
            "text/plain": [
              "{'TSLA': ['https://www.google.com/search?q%3Dyahoo%2Bfinance%2BTSLA%26tbm%3Dnws%26pccc%3D1',\n",
              "  'https://finance.yahoo.com/news/musk-shows-tesla-cybercab-sees-085158169.html',\n",
              "  'https://finance.yahoo.com/news/tesla-inc-tsla-stock-rich-063044616.html',\n",
              "  'https://finance.yahoo.com/news/teslas-cybercab-robotaxi-is-finally-here-with-a-30k-price-tag--plus-a-surprise-robovan-071844079.html',\n",
              "  'https://finance.yahoo.com/news/tesla-robotaxi-event-analysts-weigh-in-on-what-to-expect-from-ceo-elon-musks-big-moment-164748104.html',\n",
              "  'https://finance.yahoo.com/news/tesla-stock-short-sellers-favorite-185545686.html',\n",
              "  'https://finance.yahoo.com/video/pfizer-starboard-value-tesla-robotaxi-221957862.html',\n",
              "  'https://finance.yahoo.com/news/tesla-robotaxi-event-long-promises-082325759.html',\n",
              "  'https://finance.yahoo.com/quote/LCID/',\n",
              "  'https://finance.yahoo.com/news/cramer-says-buy-tesla-inc-220900728.html',\n",
              "  'https://finance.yahoo.com/video/tesla-robotaxi-day-know-ahead-233000325.html']}"
            ]
          },
          "metadata": {},
          "execution_count": 54
        }
      ],
      "source": [
        "cleaned_urls"
      ]
    },
    {
      "cell_type": "code",
      "execution_count": 56,
      "metadata": {
        "id": "Phd_dw2Lyd3R",
        "colab": {
          "base_uri": "https://localhost:8080/"
        },
        "outputId": "76c8afbd-ccb7-41ec-91a6-d07f52275d21"
      },
      "outputs": [
        {
          "output_type": "execute_result",
          "data": {
            "text/plain": [
              "range(0, 11)"
            ]
          },
          "metadata": {},
          "execution_count": 56
        }
      ],
      "source": [
        "range(len(summaries['TSLA']))"
      ]
    },
    {
      "cell_type": "code",
      "execution_count": 57,
      "metadata": {
        "id": "2hoTjbLgyd3S",
        "colab": {
          "base_uri": "https://localhost:8080/",
          "height": 35
        },
        "outputId": "881cd9c4-6866-47d2-fed5-31d60486ae01"
      },
      "outputs": [
        {
          "output_type": "execute_result",
          "data": {
            "text/plain": [
              "'Musk unveiled a larger, self-driving Robovan at Tesla event.'"
            ],
            "application/vnd.google.colaboratory.intrinsic+json": {
              "type": "string"
            }
          },
          "metadata": {},
          "execution_count": 57
        }
      ],
      "source": [
        "summaries['TSLA'][3]"
      ]
    },
    {
      "cell_type": "code",
      "execution_count": 31,
      "metadata": {
        "id": "j4RJalzNyd3S"
      },
      "outputs": [],
      "source": [
        "def create_output_array(summaries, scores, urls):\n",
        "    output = []\n",
        "    for ticker in monitored_tickers:\n",
        "        for counter in range(len(summaries[ticker])):\n",
        "            output_this = [\n",
        "                ticker,\n",
        "                summaries[ticker][counter],\n",
        "                scores[ticker][counter]['label'],\n",
        "                scores[ticker][counter]['score'],\n",
        "                urls[ticker][counter]\n",
        "            ]\n",
        "            output.append(output_this)\n",
        "    return output"
      ]
    },
    {
      "cell_type": "code",
      "execution_count": 58,
      "metadata": {
        "collapsed": true,
        "id": "06ofeShDyd3S",
        "colab": {
          "base_uri": "https://localhost:8080/"
        },
        "outputId": "3d73668d-3942-42d0-e65a-5f5199f7c496"
      },
      "outputs": [
        {
          "output_type": "execute_result",
          "data": {
            "text/plain": [
              "[['TSLA',\n",
              "  'Your information may be shared with third parties.',\n",
              "  'NEGATIVE',\n",
              "  0.9903545379638672,\n",
              "  'https://www.google.com/search?q%3Dyahoo%2Bfinance%2BTSLA%26tbm%3Dnws%26pccc%3D1'],\n",
              " ['TSLA',\n",
              "  'Tesla unveils self-driving taxi prototypes in California. Investors expect more details on how the technology will work',\n",
              "  'NEGATIVE',\n",
              "  0.9943777918815613,\n",
              "  'https://finance.yahoo.com/news/musk-shows-tesla-cybercab-sees-085158169.html'],\n",
              " ['TSLA',\n",
              "  'Tesla is one of the 10 stocks that will make you rich in 5-10 years.',\n",
              "  'POSITIVE',\n",
              "  0.9995711445808411,\n",
              "  'https://finance.yahoo.com/news/tesla-inc-tsla-stock-rich-063044616.html'],\n",
              " ['TSLA',\n",
              "  'Musk unveiled a larger, self-driving Robovan at Tesla event.',\n",
              "  'POSITIVE',\n",
              "  0.990311861038208,\n",
              "  'https://finance.yahoo.com/news/teslas-cybercab-robotaxi-is-finally-here-with-a-30k-price-tag--plus-a-surprise-robovan-071844079.html'],\n",
              " ['TSLA',\n",
              "  'Analysts expect Tesla to show off self-driving car at event. Most don’t expect a fully functional robotaxi right away',\n",
              "  'NEGATIVE',\n",
              "  0.9942530989646912,\n",
              "  'https://finance.yahoo.com/news/tesla-robotaxi-event-analysts-weigh-in-on-what-to-expect-from-ceo-elon-musks-big-moment-164748104.html'],\n",
              " ['TSLA',\n",
              "  'Shares of electric car maker are down more than 20% this year.',\n",
              "  'NEGATIVE',\n",
              "  0.9996978044509888,\n",
              "  'https://finance.yahoo.com/news/tesla-stock-short-sellers-favorite-185545686.html'],\n",
              " ['TSLA',\n",
              "  'We are aware of the issue and are working to resolve it.',\n",
              "  'POSITIVE',\n",
              "  0.9979088306427002,\n",
              "  'https://finance.yahoo.com/video/pfizer-starboard-value-tesla-robotaxi-221957862.html'],\n",
              " ['TSLA',\n",
              "  'Tesla unveils driverless robotaxis in Hollywood.',\n",
              "  'POSITIVE',\n",
              "  0.9570705890655518,\n",
              "  'https://finance.yahoo.com/news/tesla-robotaxi-event-long-promises-082325759.html'],\n",
              " ['TSLA',\n",
              "  'Shares of the electric vehicle maker have more than doubled this year.',\n",
              "  'POSITIVE',\n",
              "  0.996726393699646,\n",
              "  'https://finance.yahoo.com/quote/LCID/'],\n",
              " ['TSLA',\n",
              "  'Tesla, Inc. stands against other stocks on Jim Cramer’s radar.',\n",
              "  'NEGATIVE',\n",
              "  0.9937511086463928,\n",
              "  'https://finance.yahoo.com/news/cramer-says-buy-tesla-inc-220900728.html'],\n",
              " ['TSLA',\n",
              "  'We are aware of the issue and are working to resolve it.',\n",
              "  'POSITIVE',\n",
              "  0.9979088306427002,\n",
              "  'https://finance.yahoo.com/video/tesla-robotaxi-day-know-ahead-233000325.html']]"
            ]
          },
          "metadata": {},
          "execution_count": 58
        }
      ],
      "source": [
        "final_output = create_output_array(summaries, scores, cleaned_urls)\n",
        "final_output"
      ]
    },
    {
      "cell_type": "code",
      "execution_count": 59,
      "metadata": {
        "id": "3f-gIJgRyd3T"
      },
      "outputs": [],
      "source": [
        "final_output.insert(0, ['Ticker', 'Summary', 'Label', 'Confidence', 'URL'])"
      ]
    },
    {
      "cell_type": "code",
      "execution_count": 60,
      "metadata": {
        "collapsed": true,
        "id": "aCbvQU3Ayd3T",
        "colab": {
          "base_uri": "https://localhost:8080/"
        },
        "outputId": "05b455ef-7406-43be-b963-8a9dafcea363"
      },
      "outputs": [
        {
          "output_type": "execute_result",
          "data": {
            "text/plain": [
              "[['Ticker', 'Summary', 'Label', 'Confidence', 'URL'],\n",
              " ['TSLA',\n",
              "  'Your information may be shared with third parties.',\n",
              "  'NEGATIVE',\n",
              "  0.9903545379638672,\n",
              "  'https://www.google.com/search?q%3Dyahoo%2Bfinance%2BTSLA%26tbm%3Dnws%26pccc%3D1'],\n",
              " ['TSLA',\n",
              "  'Tesla unveils self-driving taxi prototypes in California. Investors expect more details on how the technology will work',\n",
              "  'NEGATIVE',\n",
              "  0.9943777918815613,\n",
              "  'https://finance.yahoo.com/news/musk-shows-tesla-cybercab-sees-085158169.html'],\n",
              " ['TSLA',\n",
              "  'Tesla is one of the 10 stocks that will make you rich in 5-10 years.',\n",
              "  'POSITIVE',\n",
              "  0.9995711445808411,\n",
              "  'https://finance.yahoo.com/news/tesla-inc-tsla-stock-rich-063044616.html'],\n",
              " ['TSLA',\n",
              "  'Musk unveiled a larger, self-driving Robovan at Tesla event.',\n",
              "  'POSITIVE',\n",
              "  0.990311861038208,\n",
              "  'https://finance.yahoo.com/news/teslas-cybercab-robotaxi-is-finally-here-with-a-30k-price-tag--plus-a-surprise-robovan-071844079.html'],\n",
              " ['TSLA',\n",
              "  'Analysts expect Tesla to show off self-driving car at event. Most don’t expect a fully functional robotaxi right away',\n",
              "  'NEGATIVE',\n",
              "  0.9942530989646912,\n",
              "  'https://finance.yahoo.com/news/tesla-robotaxi-event-analysts-weigh-in-on-what-to-expect-from-ceo-elon-musks-big-moment-164748104.html'],\n",
              " ['TSLA',\n",
              "  'Shares of electric car maker are down more than 20% this year.',\n",
              "  'NEGATIVE',\n",
              "  0.9996978044509888,\n",
              "  'https://finance.yahoo.com/news/tesla-stock-short-sellers-favorite-185545686.html'],\n",
              " ['TSLA',\n",
              "  'We are aware of the issue and are working to resolve it.',\n",
              "  'POSITIVE',\n",
              "  0.9979088306427002,\n",
              "  'https://finance.yahoo.com/video/pfizer-starboard-value-tesla-robotaxi-221957862.html'],\n",
              " ['TSLA',\n",
              "  'Tesla unveils driverless robotaxis in Hollywood.',\n",
              "  'POSITIVE',\n",
              "  0.9570705890655518,\n",
              "  'https://finance.yahoo.com/news/tesla-robotaxi-event-long-promises-082325759.html'],\n",
              " ['TSLA',\n",
              "  'Shares of the electric vehicle maker have more than doubled this year.',\n",
              "  'POSITIVE',\n",
              "  0.996726393699646,\n",
              "  'https://finance.yahoo.com/quote/LCID/'],\n",
              " ['TSLA',\n",
              "  'Tesla, Inc. stands against other stocks on Jim Cramer’s radar.',\n",
              "  'NEGATIVE',\n",
              "  0.9937511086463928,\n",
              "  'https://finance.yahoo.com/news/cramer-says-buy-tesla-inc-220900728.html'],\n",
              " ['TSLA',\n",
              "  'We are aware of the issue and are working to resolve it.',\n",
              "  'POSITIVE',\n",
              "  0.9979088306427002,\n",
              "  'https://finance.yahoo.com/video/tesla-robotaxi-day-know-ahead-233000325.html']]"
            ]
          },
          "metadata": {},
          "execution_count": 60
        }
      ],
      "source": [
        "final_output"
      ]
    },
    {
      "cell_type": "code",
      "execution_count": 62,
      "metadata": {
        "id": "qjyDb8TKyd3T"
      },
      "outputs": [],
      "source": [
        "import csv\n",
        "with open('articlesummaries.csv', mode='w', newline='') as f:\n",
        "    csv_writer = csv.writer(f, delimiter=',', quotechar='\"', quoting=csv.QUOTE_MINIMAL)\n",
        "    csv_writer.writerows(final_output)"
      ]
    },
    {
      "cell_type": "markdown",
      "source": [
        "Download **articlesummaries.csv** from the folder icon (📁) in the left panel."
      ],
      "metadata": {
        "id": "c9JyxKxOU2kJ"
      }
    },
    {
      "cell_type": "markdown",
      "source": [
        "##END"
      ],
      "metadata": {
        "id": "NZ-S-NYuUttr"
      }
    }
  ],
  "metadata": {
    "kernelspec": {
      "display_name": "Python 3",
      "language": "python",
      "name": "python3"
    },
    "language_info": {
      "codemirror_mode": {
        "name": "ipython",
        "version": 3
      },
      "file_extension": ".py",
      "mimetype": "text/x-python",
      "name": "python",
      "nbconvert_exporter": "python",
      "pygments_lexer": "ipython3",
      "version": "3.7.3"
    },
    "colab": {
      "provenance": [],
      "collapsed_sections": [
        "qBaZML6Qyd2l",
        "w8mgnoAqyd2x",
        "rdCIS9iKyd2y",
        "FzKdtSLhyd26",
        "_JwnKkkWyd26",
        "6jMPDlpuyd3A",
        "B8VvNoHmyd3I",
        "my4mVw1cyd3J",
        "03w7WgU8yd3L",
        "7CojreEjyd3Q"
      ]
    },
    "widgets": {
      "application/vnd.jupyter.widget-state+json": {
        "cb3a5a308f5c48d2841cd6e7a45ce802": {
          "model_module": "@jupyter-widgets/controls",
          "model_name": "HBoxModel",
          "model_module_version": "1.5.0",
          "state": {
            "_dom_classes": [],
            "_model_module": "@jupyter-widgets/controls",
            "_model_module_version": "1.5.0",
            "_model_name": "HBoxModel",
            "_view_count": null,
            "_view_module": "@jupyter-widgets/controls",
            "_view_module_version": "1.5.0",
            "_view_name": "HBoxView",
            "box_style": "",
            "children": [
              "IPY_MODEL_514d80cb43f34f728578610354a036b1",
              "IPY_MODEL_412f6c4ac1e44d0b9330649f7313a7ca",
              "IPY_MODEL_7a61ad81970e421494d173d8658bd8de"
            ],
            "layout": "IPY_MODEL_6fcc17df9117452f8ede8482e8e83337"
          }
        },
        "514d80cb43f34f728578610354a036b1": {
          "model_module": "@jupyter-widgets/controls",
          "model_name": "HTMLModel",
          "model_module_version": "1.5.0",
          "state": {
            "_dom_classes": [],
            "_model_module": "@jupyter-widgets/controls",
            "_model_module_version": "1.5.0",
            "_model_name": "HTMLModel",
            "_view_count": null,
            "_view_module": "@jupyter-widgets/controls",
            "_view_module_version": "1.5.0",
            "_view_name": "HTMLView",
            "description": "",
            "description_tooltip": null,
            "layout": "IPY_MODEL_2d5b52a8cd7b4bb08a65e14c7cef5122",
            "placeholder": "​",
            "style": "IPY_MODEL_8f9fed5700a94b5884d7b2cdc822c681",
            "value": "tokenizer_config.json: 100%"
          }
        },
        "412f6c4ac1e44d0b9330649f7313a7ca": {
          "model_module": "@jupyter-widgets/controls",
          "model_name": "FloatProgressModel",
          "model_module_version": "1.5.0",
          "state": {
            "_dom_classes": [],
            "_model_module": "@jupyter-widgets/controls",
            "_model_module_version": "1.5.0",
            "_model_name": "FloatProgressModel",
            "_view_count": null,
            "_view_module": "@jupyter-widgets/controls",
            "_view_module_version": "1.5.0",
            "_view_name": "ProgressView",
            "bar_style": "success",
            "description": "",
            "description_tooltip": null,
            "layout": "IPY_MODEL_3d1039f5afc94d06bf7d7a8d6fe2ecd7",
            "max": 1436,
            "min": 0,
            "orientation": "horizontal",
            "style": "IPY_MODEL_b64ac9f0b0ba4a6495b8a03afdb2e678",
            "value": 1436
          }
        },
        "7a61ad81970e421494d173d8658bd8de": {
          "model_module": "@jupyter-widgets/controls",
          "model_name": "HTMLModel",
          "model_module_version": "1.5.0",
          "state": {
            "_dom_classes": [],
            "_model_module": "@jupyter-widgets/controls",
            "_model_module_version": "1.5.0",
            "_model_name": "HTMLModel",
            "_view_count": null,
            "_view_module": "@jupyter-widgets/controls",
            "_view_module_version": "1.5.0",
            "_view_name": "HTMLView",
            "description": "",
            "description_tooltip": null,
            "layout": "IPY_MODEL_3aba1f51f1f2458bae0891c8a3ca3c8e",
            "placeholder": "​",
            "style": "IPY_MODEL_00ef332fa1db4b688eb22d620fb3bd32",
            "value": " 1.44k/1.44k [00:00&lt;00:00, 75.1kB/s]"
          }
        },
        "6fcc17df9117452f8ede8482e8e83337": {
          "model_module": "@jupyter-widgets/base",
          "model_name": "LayoutModel",
          "model_module_version": "1.2.0",
          "state": {
            "_model_module": "@jupyter-widgets/base",
            "_model_module_version": "1.2.0",
            "_model_name": "LayoutModel",
            "_view_count": null,
            "_view_module": "@jupyter-widgets/base",
            "_view_module_version": "1.2.0",
            "_view_name": "LayoutView",
            "align_content": null,
            "align_items": null,
            "align_self": null,
            "border": null,
            "bottom": null,
            "display": null,
            "flex": null,
            "flex_flow": null,
            "grid_area": null,
            "grid_auto_columns": null,
            "grid_auto_flow": null,
            "grid_auto_rows": null,
            "grid_column": null,
            "grid_gap": null,
            "grid_row": null,
            "grid_template_areas": null,
            "grid_template_columns": null,
            "grid_template_rows": null,
            "height": null,
            "justify_content": null,
            "justify_items": null,
            "left": null,
            "margin": null,
            "max_height": null,
            "max_width": null,
            "min_height": null,
            "min_width": null,
            "object_fit": null,
            "object_position": null,
            "order": null,
            "overflow": null,
            "overflow_x": null,
            "overflow_y": null,
            "padding": null,
            "right": null,
            "top": null,
            "visibility": null,
            "width": null
          }
        },
        "2d5b52a8cd7b4bb08a65e14c7cef5122": {
          "model_module": "@jupyter-widgets/base",
          "model_name": "LayoutModel",
          "model_module_version": "1.2.0",
          "state": {
            "_model_module": "@jupyter-widgets/base",
            "_model_module_version": "1.2.0",
            "_model_name": "LayoutModel",
            "_view_count": null,
            "_view_module": "@jupyter-widgets/base",
            "_view_module_version": "1.2.0",
            "_view_name": "LayoutView",
            "align_content": null,
            "align_items": null,
            "align_self": null,
            "border": null,
            "bottom": null,
            "display": null,
            "flex": null,
            "flex_flow": null,
            "grid_area": null,
            "grid_auto_columns": null,
            "grid_auto_flow": null,
            "grid_auto_rows": null,
            "grid_column": null,
            "grid_gap": null,
            "grid_row": null,
            "grid_template_areas": null,
            "grid_template_columns": null,
            "grid_template_rows": null,
            "height": null,
            "justify_content": null,
            "justify_items": null,
            "left": null,
            "margin": null,
            "max_height": null,
            "max_width": null,
            "min_height": null,
            "min_width": null,
            "object_fit": null,
            "object_position": null,
            "order": null,
            "overflow": null,
            "overflow_x": null,
            "overflow_y": null,
            "padding": null,
            "right": null,
            "top": null,
            "visibility": null,
            "width": null
          }
        },
        "8f9fed5700a94b5884d7b2cdc822c681": {
          "model_module": "@jupyter-widgets/controls",
          "model_name": "DescriptionStyleModel",
          "model_module_version": "1.5.0",
          "state": {
            "_model_module": "@jupyter-widgets/controls",
            "_model_module_version": "1.5.0",
            "_model_name": "DescriptionStyleModel",
            "_view_count": null,
            "_view_module": "@jupyter-widgets/base",
            "_view_module_version": "1.2.0",
            "_view_name": "StyleView",
            "description_width": ""
          }
        },
        "3d1039f5afc94d06bf7d7a8d6fe2ecd7": {
          "model_module": "@jupyter-widgets/base",
          "model_name": "LayoutModel",
          "model_module_version": "1.2.0",
          "state": {
            "_model_module": "@jupyter-widgets/base",
            "_model_module_version": "1.2.0",
            "_model_name": "LayoutModel",
            "_view_count": null,
            "_view_module": "@jupyter-widgets/base",
            "_view_module_version": "1.2.0",
            "_view_name": "LayoutView",
            "align_content": null,
            "align_items": null,
            "align_self": null,
            "border": null,
            "bottom": null,
            "display": null,
            "flex": null,
            "flex_flow": null,
            "grid_area": null,
            "grid_auto_columns": null,
            "grid_auto_flow": null,
            "grid_auto_rows": null,
            "grid_column": null,
            "grid_gap": null,
            "grid_row": null,
            "grid_template_areas": null,
            "grid_template_columns": null,
            "grid_template_rows": null,
            "height": null,
            "justify_content": null,
            "justify_items": null,
            "left": null,
            "margin": null,
            "max_height": null,
            "max_width": null,
            "min_height": null,
            "min_width": null,
            "object_fit": null,
            "object_position": null,
            "order": null,
            "overflow": null,
            "overflow_x": null,
            "overflow_y": null,
            "padding": null,
            "right": null,
            "top": null,
            "visibility": null,
            "width": null
          }
        },
        "b64ac9f0b0ba4a6495b8a03afdb2e678": {
          "model_module": "@jupyter-widgets/controls",
          "model_name": "ProgressStyleModel",
          "model_module_version": "1.5.0",
          "state": {
            "_model_module": "@jupyter-widgets/controls",
            "_model_module_version": "1.5.0",
            "_model_name": "ProgressStyleModel",
            "_view_count": null,
            "_view_module": "@jupyter-widgets/base",
            "_view_module_version": "1.2.0",
            "_view_name": "StyleView",
            "bar_color": null,
            "description_width": ""
          }
        },
        "3aba1f51f1f2458bae0891c8a3ca3c8e": {
          "model_module": "@jupyter-widgets/base",
          "model_name": "LayoutModel",
          "model_module_version": "1.2.0",
          "state": {
            "_model_module": "@jupyter-widgets/base",
            "_model_module_version": "1.2.0",
            "_model_name": "LayoutModel",
            "_view_count": null,
            "_view_module": "@jupyter-widgets/base",
            "_view_module_version": "1.2.0",
            "_view_name": "LayoutView",
            "align_content": null,
            "align_items": null,
            "align_self": null,
            "border": null,
            "bottom": null,
            "display": null,
            "flex": null,
            "flex_flow": null,
            "grid_area": null,
            "grid_auto_columns": null,
            "grid_auto_flow": null,
            "grid_auto_rows": null,
            "grid_column": null,
            "grid_gap": null,
            "grid_row": null,
            "grid_template_areas": null,
            "grid_template_columns": null,
            "grid_template_rows": null,
            "height": null,
            "justify_content": null,
            "justify_items": null,
            "left": null,
            "margin": null,
            "max_height": null,
            "max_width": null,
            "min_height": null,
            "min_width": null,
            "object_fit": null,
            "object_position": null,
            "order": null,
            "overflow": null,
            "overflow_x": null,
            "overflow_y": null,
            "padding": null,
            "right": null,
            "top": null,
            "visibility": null,
            "width": null
          }
        },
        "00ef332fa1db4b688eb22d620fb3bd32": {
          "model_module": "@jupyter-widgets/controls",
          "model_name": "DescriptionStyleModel",
          "model_module_version": "1.5.0",
          "state": {
            "_model_module": "@jupyter-widgets/controls",
            "_model_module_version": "1.5.0",
            "_model_name": "DescriptionStyleModel",
            "_view_count": null,
            "_view_module": "@jupyter-widgets/base",
            "_view_module_version": "1.2.0",
            "_view_name": "StyleView",
            "description_width": ""
          }
        },
        "301f39b5e29d4e88b223420b7841c5f5": {
          "model_module": "@jupyter-widgets/controls",
          "model_name": "HBoxModel",
          "model_module_version": "1.5.0",
          "state": {
            "_dom_classes": [],
            "_model_module": "@jupyter-widgets/controls",
            "_model_module_version": "1.5.0",
            "_model_name": "HBoxModel",
            "_view_count": null,
            "_view_module": "@jupyter-widgets/controls",
            "_view_module_version": "1.5.0",
            "_view_name": "HBoxView",
            "box_style": "",
            "children": [
              "IPY_MODEL_908bb1fc74b54265b2e28e5a91a2172a",
              "IPY_MODEL_9479f030d70140b5bee5361e46683122",
              "IPY_MODEL_719ce28fecfa4f9cb970d24658f57665"
            ],
            "layout": "IPY_MODEL_5fa4bdb214004731bd34588f98fdfb2b"
          }
        },
        "908bb1fc74b54265b2e28e5a91a2172a": {
          "model_module": "@jupyter-widgets/controls",
          "model_name": "HTMLModel",
          "model_module_version": "1.5.0",
          "state": {
            "_dom_classes": [],
            "_model_module": "@jupyter-widgets/controls",
            "_model_module_version": "1.5.0",
            "_model_name": "HTMLModel",
            "_view_count": null,
            "_view_module": "@jupyter-widgets/controls",
            "_view_module_version": "1.5.0",
            "_view_name": "HTMLView",
            "description": "",
            "description_tooltip": null,
            "layout": "IPY_MODEL_7d5094a8163841e19767dc1a585eb9b6",
            "placeholder": "​",
            "style": "IPY_MODEL_36d947ea432b4006a5d9111a850751cc",
            "value": "config.json: 100%"
          }
        },
        "9479f030d70140b5bee5361e46683122": {
          "model_module": "@jupyter-widgets/controls",
          "model_name": "FloatProgressModel",
          "model_module_version": "1.5.0",
          "state": {
            "_dom_classes": [],
            "_model_module": "@jupyter-widgets/controls",
            "_model_module_version": "1.5.0",
            "_model_name": "FloatProgressModel",
            "_view_count": null,
            "_view_module": "@jupyter-widgets/controls",
            "_view_module_version": "1.5.0",
            "_view_name": "ProgressView",
            "bar_style": "success",
            "description": "",
            "description_tooltip": null,
            "layout": "IPY_MODEL_2f981ce6f29c4d2db53694e93bde9f1e",
            "max": 1274,
            "min": 0,
            "orientation": "horizontal",
            "style": "IPY_MODEL_7386bba8bd924152847e8d59294ae954",
            "value": 1274
          }
        },
        "719ce28fecfa4f9cb970d24658f57665": {
          "model_module": "@jupyter-widgets/controls",
          "model_name": "HTMLModel",
          "model_module_version": "1.5.0",
          "state": {
            "_dom_classes": [],
            "_model_module": "@jupyter-widgets/controls",
            "_model_module_version": "1.5.0",
            "_model_name": "HTMLModel",
            "_view_count": null,
            "_view_module": "@jupyter-widgets/controls",
            "_view_module_version": "1.5.0",
            "_view_name": "HTMLView",
            "description": "",
            "description_tooltip": null,
            "layout": "IPY_MODEL_215d3992590149fa85cb5adc336e1fb4",
            "placeholder": "​",
            "style": "IPY_MODEL_bc15fa700b484ac8b12a70cc5b2bc7f9",
            "value": " 1.27k/1.27k [00:00&lt;00:00, 50.7kB/s]"
          }
        },
        "5fa4bdb214004731bd34588f98fdfb2b": {
          "model_module": "@jupyter-widgets/base",
          "model_name": "LayoutModel",
          "model_module_version": "1.2.0",
          "state": {
            "_model_module": "@jupyter-widgets/base",
            "_model_module_version": "1.2.0",
            "_model_name": "LayoutModel",
            "_view_count": null,
            "_view_module": "@jupyter-widgets/base",
            "_view_module_version": "1.2.0",
            "_view_name": "LayoutView",
            "align_content": null,
            "align_items": null,
            "align_self": null,
            "border": null,
            "bottom": null,
            "display": null,
            "flex": null,
            "flex_flow": null,
            "grid_area": null,
            "grid_auto_columns": null,
            "grid_auto_flow": null,
            "grid_auto_rows": null,
            "grid_column": null,
            "grid_gap": null,
            "grid_row": null,
            "grid_template_areas": null,
            "grid_template_columns": null,
            "grid_template_rows": null,
            "height": null,
            "justify_content": null,
            "justify_items": null,
            "left": null,
            "margin": null,
            "max_height": null,
            "max_width": null,
            "min_height": null,
            "min_width": null,
            "object_fit": null,
            "object_position": null,
            "order": null,
            "overflow": null,
            "overflow_x": null,
            "overflow_y": null,
            "padding": null,
            "right": null,
            "top": null,
            "visibility": null,
            "width": null
          }
        },
        "7d5094a8163841e19767dc1a585eb9b6": {
          "model_module": "@jupyter-widgets/base",
          "model_name": "LayoutModel",
          "model_module_version": "1.2.0",
          "state": {
            "_model_module": "@jupyter-widgets/base",
            "_model_module_version": "1.2.0",
            "_model_name": "LayoutModel",
            "_view_count": null,
            "_view_module": "@jupyter-widgets/base",
            "_view_module_version": "1.2.0",
            "_view_name": "LayoutView",
            "align_content": null,
            "align_items": null,
            "align_self": null,
            "border": null,
            "bottom": null,
            "display": null,
            "flex": null,
            "flex_flow": null,
            "grid_area": null,
            "grid_auto_columns": null,
            "grid_auto_flow": null,
            "grid_auto_rows": null,
            "grid_column": null,
            "grid_gap": null,
            "grid_row": null,
            "grid_template_areas": null,
            "grid_template_columns": null,
            "grid_template_rows": null,
            "height": null,
            "justify_content": null,
            "justify_items": null,
            "left": null,
            "margin": null,
            "max_height": null,
            "max_width": null,
            "min_height": null,
            "min_width": null,
            "object_fit": null,
            "object_position": null,
            "order": null,
            "overflow": null,
            "overflow_x": null,
            "overflow_y": null,
            "padding": null,
            "right": null,
            "top": null,
            "visibility": null,
            "width": null
          }
        },
        "36d947ea432b4006a5d9111a850751cc": {
          "model_module": "@jupyter-widgets/controls",
          "model_name": "DescriptionStyleModel",
          "model_module_version": "1.5.0",
          "state": {
            "_model_module": "@jupyter-widgets/controls",
            "_model_module_version": "1.5.0",
            "_model_name": "DescriptionStyleModel",
            "_view_count": null,
            "_view_module": "@jupyter-widgets/base",
            "_view_module_version": "1.2.0",
            "_view_name": "StyleView",
            "description_width": ""
          }
        },
        "2f981ce6f29c4d2db53694e93bde9f1e": {
          "model_module": "@jupyter-widgets/base",
          "model_name": "LayoutModel",
          "model_module_version": "1.2.0",
          "state": {
            "_model_module": "@jupyter-widgets/base",
            "_model_module_version": "1.2.0",
            "_model_name": "LayoutModel",
            "_view_count": null,
            "_view_module": "@jupyter-widgets/base",
            "_view_module_version": "1.2.0",
            "_view_name": "LayoutView",
            "align_content": null,
            "align_items": null,
            "align_self": null,
            "border": null,
            "bottom": null,
            "display": null,
            "flex": null,
            "flex_flow": null,
            "grid_area": null,
            "grid_auto_columns": null,
            "grid_auto_flow": null,
            "grid_auto_rows": null,
            "grid_column": null,
            "grid_gap": null,
            "grid_row": null,
            "grid_template_areas": null,
            "grid_template_columns": null,
            "grid_template_rows": null,
            "height": null,
            "justify_content": null,
            "justify_items": null,
            "left": null,
            "margin": null,
            "max_height": null,
            "max_width": null,
            "min_height": null,
            "min_width": null,
            "object_fit": null,
            "object_position": null,
            "order": null,
            "overflow": null,
            "overflow_x": null,
            "overflow_y": null,
            "padding": null,
            "right": null,
            "top": null,
            "visibility": null,
            "width": null
          }
        },
        "7386bba8bd924152847e8d59294ae954": {
          "model_module": "@jupyter-widgets/controls",
          "model_name": "ProgressStyleModel",
          "model_module_version": "1.5.0",
          "state": {
            "_model_module": "@jupyter-widgets/controls",
            "_model_module_version": "1.5.0",
            "_model_name": "ProgressStyleModel",
            "_view_count": null,
            "_view_module": "@jupyter-widgets/base",
            "_view_module_version": "1.2.0",
            "_view_name": "StyleView",
            "bar_color": null,
            "description_width": ""
          }
        },
        "215d3992590149fa85cb5adc336e1fb4": {
          "model_module": "@jupyter-widgets/base",
          "model_name": "LayoutModel",
          "model_module_version": "1.2.0",
          "state": {
            "_model_module": "@jupyter-widgets/base",
            "_model_module_version": "1.2.0",
            "_model_name": "LayoutModel",
            "_view_count": null,
            "_view_module": "@jupyter-widgets/base",
            "_view_module_version": "1.2.0",
            "_view_name": "LayoutView",
            "align_content": null,
            "align_items": null,
            "align_self": null,
            "border": null,
            "bottom": null,
            "display": null,
            "flex": null,
            "flex_flow": null,
            "grid_area": null,
            "grid_auto_columns": null,
            "grid_auto_flow": null,
            "grid_auto_rows": null,
            "grid_column": null,
            "grid_gap": null,
            "grid_row": null,
            "grid_template_areas": null,
            "grid_template_columns": null,
            "grid_template_rows": null,
            "height": null,
            "justify_content": null,
            "justify_items": null,
            "left": null,
            "margin": null,
            "max_height": null,
            "max_width": null,
            "min_height": null,
            "min_width": null,
            "object_fit": null,
            "object_position": null,
            "order": null,
            "overflow": null,
            "overflow_x": null,
            "overflow_y": null,
            "padding": null,
            "right": null,
            "top": null,
            "visibility": null,
            "width": null
          }
        },
        "bc15fa700b484ac8b12a70cc5b2bc7f9": {
          "model_module": "@jupyter-widgets/controls",
          "model_name": "DescriptionStyleModel",
          "model_module_version": "1.5.0",
          "state": {
            "_model_module": "@jupyter-widgets/controls",
            "_model_module_version": "1.5.0",
            "_model_name": "DescriptionStyleModel",
            "_view_count": null,
            "_view_module": "@jupyter-widgets/base",
            "_view_module_version": "1.2.0",
            "_view_name": "StyleView",
            "description_width": ""
          }
        },
        "186e010cc7904523be628e1a47153a72": {
          "model_module": "@jupyter-widgets/controls",
          "model_name": "HBoxModel",
          "model_module_version": "1.5.0",
          "state": {
            "_dom_classes": [],
            "_model_module": "@jupyter-widgets/controls",
            "_model_module_version": "1.5.0",
            "_model_name": "HBoxModel",
            "_view_count": null,
            "_view_module": "@jupyter-widgets/controls",
            "_view_module_version": "1.5.0",
            "_view_name": "HBoxView",
            "box_style": "",
            "children": [
              "IPY_MODEL_3d4536faac824abb98af0cbbb036ecb8",
              "IPY_MODEL_37f5d4d2b5fc407aa854c29bee75dfaa",
              "IPY_MODEL_4f2108bf82d84db69e70839564057107"
            ],
            "layout": "IPY_MODEL_ff1c619aa5c0495baa3d47ad7dc98329"
          }
        },
        "3d4536faac824abb98af0cbbb036ecb8": {
          "model_module": "@jupyter-widgets/controls",
          "model_name": "HTMLModel",
          "model_module_version": "1.5.0",
          "state": {
            "_dom_classes": [],
            "_model_module": "@jupyter-widgets/controls",
            "_model_module_version": "1.5.0",
            "_model_name": "HTMLModel",
            "_view_count": null,
            "_view_module": "@jupyter-widgets/controls",
            "_view_module_version": "1.5.0",
            "_view_name": "HTMLView",
            "description": "",
            "description_tooltip": null,
            "layout": "IPY_MODEL_414aba7eb929472ea4b87dff7c9aa9db",
            "placeholder": "​",
            "style": "IPY_MODEL_f3dda637101141868da2b6fdfa249ae2",
            "value": "spiece.model: 100%"
          }
        },
        "37f5d4d2b5fc407aa854c29bee75dfaa": {
          "model_module": "@jupyter-widgets/controls",
          "model_name": "FloatProgressModel",
          "model_module_version": "1.5.0",
          "state": {
            "_dom_classes": [],
            "_model_module": "@jupyter-widgets/controls",
            "_model_module_version": "1.5.0",
            "_model_name": "FloatProgressModel",
            "_view_count": null,
            "_view_module": "@jupyter-widgets/controls",
            "_view_module_version": "1.5.0",
            "_view_name": "ProgressView",
            "bar_style": "success",
            "description": "",
            "description_tooltip": null,
            "layout": "IPY_MODEL_2e873a218a5043b49d1ce5a9cbf53d2e",
            "max": 1912529,
            "min": 0,
            "orientation": "horizontal",
            "style": "IPY_MODEL_bc66cac08362457e9b4a6fdb3b81cd71",
            "value": 1912529
          }
        },
        "4f2108bf82d84db69e70839564057107": {
          "model_module": "@jupyter-widgets/controls",
          "model_name": "HTMLModel",
          "model_module_version": "1.5.0",
          "state": {
            "_dom_classes": [],
            "_model_module": "@jupyter-widgets/controls",
            "_model_module_version": "1.5.0",
            "_model_name": "HTMLModel",
            "_view_count": null,
            "_view_module": "@jupyter-widgets/controls",
            "_view_module_version": "1.5.0",
            "_view_name": "HTMLView",
            "description": "",
            "description_tooltip": null,
            "layout": "IPY_MODEL_2e2c6c0c1c104ae396f5380e2f41477b",
            "placeholder": "​",
            "style": "IPY_MODEL_d81e151aff6b4c00abb91a443c5835ce",
            "value": " 1.91M/1.91M [00:00&lt;00:00, 6.89MB/s]"
          }
        },
        "ff1c619aa5c0495baa3d47ad7dc98329": {
          "model_module": "@jupyter-widgets/base",
          "model_name": "LayoutModel",
          "model_module_version": "1.2.0",
          "state": {
            "_model_module": "@jupyter-widgets/base",
            "_model_module_version": "1.2.0",
            "_model_name": "LayoutModel",
            "_view_count": null,
            "_view_module": "@jupyter-widgets/base",
            "_view_module_version": "1.2.0",
            "_view_name": "LayoutView",
            "align_content": null,
            "align_items": null,
            "align_self": null,
            "border": null,
            "bottom": null,
            "display": null,
            "flex": null,
            "flex_flow": null,
            "grid_area": null,
            "grid_auto_columns": null,
            "grid_auto_flow": null,
            "grid_auto_rows": null,
            "grid_column": null,
            "grid_gap": null,
            "grid_row": null,
            "grid_template_areas": null,
            "grid_template_columns": null,
            "grid_template_rows": null,
            "height": null,
            "justify_content": null,
            "justify_items": null,
            "left": null,
            "margin": null,
            "max_height": null,
            "max_width": null,
            "min_height": null,
            "min_width": null,
            "object_fit": null,
            "object_position": null,
            "order": null,
            "overflow": null,
            "overflow_x": null,
            "overflow_y": null,
            "padding": null,
            "right": null,
            "top": null,
            "visibility": null,
            "width": null
          }
        },
        "414aba7eb929472ea4b87dff7c9aa9db": {
          "model_module": "@jupyter-widgets/base",
          "model_name": "LayoutModel",
          "model_module_version": "1.2.0",
          "state": {
            "_model_module": "@jupyter-widgets/base",
            "_model_module_version": "1.2.0",
            "_model_name": "LayoutModel",
            "_view_count": null,
            "_view_module": "@jupyter-widgets/base",
            "_view_module_version": "1.2.0",
            "_view_name": "LayoutView",
            "align_content": null,
            "align_items": null,
            "align_self": null,
            "border": null,
            "bottom": null,
            "display": null,
            "flex": null,
            "flex_flow": null,
            "grid_area": null,
            "grid_auto_columns": null,
            "grid_auto_flow": null,
            "grid_auto_rows": null,
            "grid_column": null,
            "grid_gap": null,
            "grid_row": null,
            "grid_template_areas": null,
            "grid_template_columns": null,
            "grid_template_rows": null,
            "height": null,
            "justify_content": null,
            "justify_items": null,
            "left": null,
            "margin": null,
            "max_height": null,
            "max_width": null,
            "min_height": null,
            "min_width": null,
            "object_fit": null,
            "object_position": null,
            "order": null,
            "overflow": null,
            "overflow_x": null,
            "overflow_y": null,
            "padding": null,
            "right": null,
            "top": null,
            "visibility": null,
            "width": null
          }
        },
        "f3dda637101141868da2b6fdfa249ae2": {
          "model_module": "@jupyter-widgets/controls",
          "model_name": "DescriptionStyleModel",
          "model_module_version": "1.5.0",
          "state": {
            "_model_module": "@jupyter-widgets/controls",
            "_model_module_version": "1.5.0",
            "_model_name": "DescriptionStyleModel",
            "_view_count": null,
            "_view_module": "@jupyter-widgets/base",
            "_view_module_version": "1.2.0",
            "_view_name": "StyleView",
            "description_width": ""
          }
        },
        "2e873a218a5043b49d1ce5a9cbf53d2e": {
          "model_module": "@jupyter-widgets/base",
          "model_name": "LayoutModel",
          "model_module_version": "1.2.0",
          "state": {
            "_model_module": "@jupyter-widgets/base",
            "_model_module_version": "1.2.0",
            "_model_name": "LayoutModel",
            "_view_count": null,
            "_view_module": "@jupyter-widgets/base",
            "_view_module_version": "1.2.0",
            "_view_name": "LayoutView",
            "align_content": null,
            "align_items": null,
            "align_self": null,
            "border": null,
            "bottom": null,
            "display": null,
            "flex": null,
            "flex_flow": null,
            "grid_area": null,
            "grid_auto_columns": null,
            "grid_auto_flow": null,
            "grid_auto_rows": null,
            "grid_column": null,
            "grid_gap": null,
            "grid_row": null,
            "grid_template_areas": null,
            "grid_template_columns": null,
            "grid_template_rows": null,
            "height": null,
            "justify_content": null,
            "justify_items": null,
            "left": null,
            "margin": null,
            "max_height": null,
            "max_width": null,
            "min_height": null,
            "min_width": null,
            "object_fit": null,
            "object_position": null,
            "order": null,
            "overflow": null,
            "overflow_x": null,
            "overflow_y": null,
            "padding": null,
            "right": null,
            "top": null,
            "visibility": null,
            "width": null
          }
        },
        "bc66cac08362457e9b4a6fdb3b81cd71": {
          "model_module": "@jupyter-widgets/controls",
          "model_name": "ProgressStyleModel",
          "model_module_version": "1.5.0",
          "state": {
            "_model_module": "@jupyter-widgets/controls",
            "_model_module_version": "1.5.0",
            "_model_name": "ProgressStyleModel",
            "_view_count": null,
            "_view_module": "@jupyter-widgets/base",
            "_view_module_version": "1.2.0",
            "_view_name": "StyleView",
            "bar_color": null,
            "description_width": ""
          }
        },
        "2e2c6c0c1c104ae396f5380e2f41477b": {
          "model_module": "@jupyter-widgets/base",
          "model_name": "LayoutModel",
          "model_module_version": "1.2.0",
          "state": {
            "_model_module": "@jupyter-widgets/base",
            "_model_module_version": "1.2.0",
            "_model_name": "LayoutModel",
            "_view_count": null,
            "_view_module": "@jupyter-widgets/base",
            "_view_module_version": "1.2.0",
            "_view_name": "LayoutView",
            "align_content": null,
            "align_items": null,
            "align_self": null,
            "border": null,
            "bottom": null,
            "display": null,
            "flex": null,
            "flex_flow": null,
            "grid_area": null,
            "grid_auto_columns": null,
            "grid_auto_flow": null,
            "grid_auto_rows": null,
            "grid_column": null,
            "grid_gap": null,
            "grid_row": null,
            "grid_template_areas": null,
            "grid_template_columns": null,
            "grid_template_rows": null,
            "height": null,
            "justify_content": null,
            "justify_items": null,
            "left": null,
            "margin": null,
            "max_height": null,
            "max_width": null,
            "min_height": null,
            "min_width": null,
            "object_fit": null,
            "object_position": null,
            "order": null,
            "overflow": null,
            "overflow_x": null,
            "overflow_y": null,
            "padding": null,
            "right": null,
            "top": null,
            "visibility": null,
            "width": null
          }
        },
        "d81e151aff6b4c00abb91a443c5835ce": {
          "model_module": "@jupyter-widgets/controls",
          "model_name": "DescriptionStyleModel",
          "model_module_version": "1.5.0",
          "state": {
            "_model_module": "@jupyter-widgets/controls",
            "_model_module_version": "1.5.0",
            "_model_name": "DescriptionStyleModel",
            "_view_count": null,
            "_view_module": "@jupyter-widgets/base",
            "_view_module_version": "1.2.0",
            "_view_name": "StyleView",
            "description_width": ""
          }
        },
        "ee04e1f455134585a3d50ddcbfac0f5d": {
          "model_module": "@jupyter-widgets/controls",
          "model_name": "HBoxModel",
          "model_module_version": "1.5.0",
          "state": {
            "_dom_classes": [],
            "_model_module": "@jupyter-widgets/controls",
            "_model_module_version": "1.5.0",
            "_model_name": "HBoxModel",
            "_view_count": null,
            "_view_module": "@jupyter-widgets/controls",
            "_view_module_version": "1.5.0",
            "_view_name": "HBoxView",
            "box_style": "",
            "children": [
              "IPY_MODEL_86d0c8231d1946b4a6fe11ba8f60868d",
              "IPY_MODEL_665bf9036eba4442ad525ea215b01194",
              "IPY_MODEL_c40d637d8c5a4e239850543db9429d91"
            ],
            "layout": "IPY_MODEL_d011813b60d7494f975be2759511c8d2"
          }
        },
        "86d0c8231d1946b4a6fe11ba8f60868d": {
          "model_module": "@jupyter-widgets/controls",
          "model_name": "HTMLModel",
          "model_module_version": "1.5.0",
          "state": {
            "_dom_classes": [],
            "_model_module": "@jupyter-widgets/controls",
            "_model_module_version": "1.5.0",
            "_model_name": "HTMLModel",
            "_view_count": null,
            "_view_module": "@jupyter-widgets/controls",
            "_view_module_version": "1.5.0",
            "_view_name": "HTMLView",
            "description": "",
            "description_tooltip": null,
            "layout": "IPY_MODEL_a7c38a79ac754eecb508b472a9d0bd93",
            "placeholder": "​",
            "style": "IPY_MODEL_96615c874ff04c5981364bffdc6f23f0",
            "value": "special_tokens_map.json: 100%"
          }
        },
        "665bf9036eba4442ad525ea215b01194": {
          "model_module": "@jupyter-widgets/controls",
          "model_name": "FloatProgressModel",
          "model_module_version": "1.5.0",
          "state": {
            "_dom_classes": [],
            "_model_module": "@jupyter-widgets/controls",
            "_model_module_version": "1.5.0",
            "_model_name": "FloatProgressModel",
            "_view_count": null,
            "_view_module": "@jupyter-widgets/controls",
            "_view_module_version": "1.5.0",
            "_view_name": "ProgressView",
            "bar_style": "success",
            "description": "",
            "description_tooltip": null,
            "layout": "IPY_MODEL_b80eed5f62bc414a90676238f8cf4de7",
            "max": 1341,
            "min": 0,
            "orientation": "horizontal",
            "style": "IPY_MODEL_49f9df2c9b254309b155e15b07a1c6e0",
            "value": 1341
          }
        },
        "c40d637d8c5a4e239850543db9429d91": {
          "model_module": "@jupyter-widgets/controls",
          "model_name": "HTMLModel",
          "model_module_version": "1.5.0",
          "state": {
            "_dom_classes": [],
            "_model_module": "@jupyter-widgets/controls",
            "_model_module_version": "1.5.0",
            "_model_name": "HTMLModel",
            "_view_count": null,
            "_view_module": "@jupyter-widgets/controls",
            "_view_module_version": "1.5.0",
            "_view_name": "HTMLView",
            "description": "",
            "description_tooltip": null,
            "layout": "IPY_MODEL_23363394361d4bbeb977dd286c5e5560",
            "placeholder": "​",
            "style": "IPY_MODEL_0f67aa7f127d434c830ffc0f4c4661f8",
            "value": " 1.34k/1.34k [00:00&lt;00:00, 29.8kB/s]"
          }
        },
        "d011813b60d7494f975be2759511c8d2": {
          "model_module": "@jupyter-widgets/base",
          "model_name": "LayoutModel",
          "model_module_version": "1.2.0",
          "state": {
            "_model_module": "@jupyter-widgets/base",
            "_model_module_version": "1.2.0",
            "_model_name": "LayoutModel",
            "_view_count": null,
            "_view_module": "@jupyter-widgets/base",
            "_view_module_version": "1.2.0",
            "_view_name": "LayoutView",
            "align_content": null,
            "align_items": null,
            "align_self": null,
            "border": null,
            "bottom": null,
            "display": null,
            "flex": null,
            "flex_flow": null,
            "grid_area": null,
            "grid_auto_columns": null,
            "grid_auto_flow": null,
            "grid_auto_rows": null,
            "grid_column": null,
            "grid_gap": null,
            "grid_row": null,
            "grid_template_areas": null,
            "grid_template_columns": null,
            "grid_template_rows": null,
            "height": null,
            "justify_content": null,
            "justify_items": null,
            "left": null,
            "margin": null,
            "max_height": null,
            "max_width": null,
            "min_height": null,
            "min_width": null,
            "object_fit": null,
            "object_position": null,
            "order": null,
            "overflow": null,
            "overflow_x": null,
            "overflow_y": null,
            "padding": null,
            "right": null,
            "top": null,
            "visibility": null,
            "width": null
          }
        },
        "a7c38a79ac754eecb508b472a9d0bd93": {
          "model_module": "@jupyter-widgets/base",
          "model_name": "LayoutModel",
          "model_module_version": "1.2.0",
          "state": {
            "_model_module": "@jupyter-widgets/base",
            "_model_module_version": "1.2.0",
            "_model_name": "LayoutModel",
            "_view_count": null,
            "_view_module": "@jupyter-widgets/base",
            "_view_module_version": "1.2.0",
            "_view_name": "LayoutView",
            "align_content": null,
            "align_items": null,
            "align_self": null,
            "border": null,
            "bottom": null,
            "display": null,
            "flex": null,
            "flex_flow": null,
            "grid_area": null,
            "grid_auto_columns": null,
            "grid_auto_flow": null,
            "grid_auto_rows": null,
            "grid_column": null,
            "grid_gap": null,
            "grid_row": null,
            "grid_template_areas": null,
            "grid_template_columns": null,
            "grid_template_rows": null,
            "height": null,
            "justify_content": null,
            "justify_items": null,
            "left": null,
            "margin": null,
            "max_height": null,
            "max_width": null,
            "min_height": null,
            "min_width": null,
            "object_fit": null,
            "object_position": null,
            "order": null,
            "overflow": null,
            "overflow_x": null,
            "overflow_y": null,
            "padding": null,
            "right": null,
            "top": null,
            "visibility": null,
            "width": null
          }
        },
        "96615c874ff04c5981364bffdc6f23f0": {
          "model_module": "@jupyter-widgets/controls",
          "model_name": "DescriptionStyleModel",
          "model_module_version": "1.5.0",
          "state": {
            "_model_module": "@jupyter-widgets/controls",
            "_model_module_version": "1.5.0",
            "_model_name": "DescriptionStyleModel",
            "_view_count": null,
            "_view_module": "@jupyter-widgets/base",
            "_view_module_version": "1.2.0",
            "_view_name": "StyleView",
            "description_width": ""
          }
        },
        "b80eed5f62bc414a90676238f8cf4de7": {
          "model_module": "@jupyter-widgets/base",
          "model_name": "LayoutModel",
          "model_module_version": "1.2.0",
          "state": {
            "_model_module": "@jupyter-widgets/base",
            "_model_module_version": "1.2.0",
            "_model_name": "LayoutModel",
            "_view_count": null,
            "_view_module": "@jupyter-widgets/base",
            "_view_module_version": "1.2.0",
            "_view_name": "LayoutView",
            "align_content": null,
            "align_items": null,
            "align_self": null,
            "border": null,
            "bottom": null,
            "display": null,
            "flex": null,
            "flex_flow": null,
            "grid_area": null,
            "grid_auto_columns": null,
            "grid_auto_flow": null,
            "grid_auto_rows": null,
            "grid_column": null,
            "grid_gap": null,
            "grid_row": null,
            "grid_template_areas": null,
            "grid_template_columns": null,
            "grid_template_rows": null,
            "height": null,
            "justify_content": null,
            "justify_items": null,
            "left": null,
            "margin": null,
            "max_height": null,
            "max_width": null,
            "min_height": null,
            "min_width": null,
            "object_fit": null,
            "object_position": null,
            "order": null,
            "overflow": null,
            "overflow_x": null,
            "overflow_y": null,
            "padding": null,
            "right": null,
            "top": null,
            "visibility": null,
            "width": null
          }
        },
        "49f9df2c9b254309b155e15b07a1c6e0": {
          "model_module": "@jupyter-widgets/controls",
          "model_name": "ProgressStyleModel",
          "model_module_version": "1.5.0",
          "state": {
            "_model_module": "@jupyter-widgets/controls",
            "_model_module_version": "1.5.0",
            "_model_name": "ProgressStyleModel",
            "_view_count": null,
            "_view_module": "@jupyter-widgets/base",
            "_view_module_version": "1.2.0",
            "_view_name": "StyleView",
            "bar_color": null,
            "description_width": ""
          }
        },
        "23363394361d4bbeb977dd286c5e5560": {
          "model_module": "@jupyter-widgets/base",
          "model_name": "LayoutModel",
          "model_module_version": "1.2.0",
          "state": {
            "_model_module": "@jupyter-widgets/base",
            "_model_module_version": "1.2.0",
            "_model_name": "LayoutModel",
            "_view_count": null,
            "_view_module": "@jupyter-widgets/base",
            "_view_module_version": "1.2.0",
            "_view_name": "LayoutView",
            "align_content": null,
            "align_items": null,
            "align_self": null,
            "border": null,
            "bottom": null,
            "display": null,
            "flex": null,
            "flex_flow": null,
            "grid_area": null,
            "grid_auto_columns": null,
            "grid_auto_flow": null,
            "grid_auto_rows": null,
            "grid_column": null,
            "grid_gap": null,
            "grid_row": null,
            "grid_template_areas": null,
            "grid_template_columns": null,
            "grid_template_rows": null,
            "height": null,
            "justify_content": null,
            "justify_items": null,
            "left": null,
            "margin": null,
            "max_height": null,
            "max_width": null,
            "min_height": null,
            "min_width": null,
            "object_fit": null,
            "object_position": null,
            "order": null,
            "overflow": null,
            "overflow_x": null,
            "overflow_y": null,
            "padding": null,
            "right": null,
            "top": null,
            "visibility": null,
            "width": null
          }
        },
        "0f67aa7f127d434c830ffc0f4c4661f8": {
          "model_module": "@jupyter-widgets/controls",
          "model_name": "DescriptionStyleModel",
          "model_module_version": "1.5.0",
          "state": {
            "_model_module": "@jupyter-widgets/controls",
            "_model_module_version": "1.5.0",
            "_model_name": "DescriptionStyleModel",
            "_view_count": null,
            "_view_module": "@jupyter-widgets/base",
            "_view_module_version": "1.2.0",
            "_view_name": "StyleView",
            "description_width": ""
          }
        },
        "511a9419ffa94796887e89fc999018b3": {
          "model_module": "@jupyter-widgets/controls",
          "model_name": "HBoxModel",
          "model_module_version": "1.5.0",
          "state": {
            "_dom_classes": [],
            "_model_module": "@jupyter-widgets/controls",
            "_model_module_version": "1.5.0",
            "_model_name": "HBoxModel",
            "_view_count": null,
            "_view_module": "@jupyter-widgets/controls",
            "_view_module_version": "1.5.0",
            "_view_name": "HBoxView",
            "box_style": "",
            "children": [
              "IPY_MODEL_a641c40ade0b41dbbfcc1167c9db5585",
              "IPY_MODEL_94cd57f64cb441a4822f189a74f9b3f5",
              "IPY_MODEL_81cd154457f74ed9b483ac7bbb75aed3"
            ],
            "layout": "IPY_MODEL_be7a7a4bdce84cf29ec8e5088bcf3025"
          }
        },
        "a641c40ade0b41dbbfcc1167c9db5585": {
          "model_module": "@jupyter-widgets/controls",
          "model_name": "HTMLModel",
          "model_module_version": "1.5.0",
          "state": {
            "_dom_classes": [],
            "_model_module": "@jupyter-widgets/controls",
            "_model_module_version": "1.5.0",
            "_model_name": "HTMLModel",
            "_view_count": null,
            "_view_module": "@jupyter-widgets/controls",
            "_view_module_version": "1.5.0",
            "_view_name": "HTMLView",
            "description": "",
            "description_tooltip": null,
            "layout": "IPY_MODEL_8fef7ca4e6a4401ab657bc7adb31fde6",
            "placeholder": "​",
            "style": "IPY_MODEL_ceb495f297d749bc8dbb2a9419c181cf",
            "value": "model.safetensors: 100%"
          }
        },
        "94cd57f64cb441a4822f189a74f9b3f5": {
          "model_module": "@jupyter-widgets/controls",
          "model_name": "FloatProgressModel",
          "model_module_version": "1.5.0",
          "state": {
            "_dom_classes": [],
            "_model_module": "@jupyter-widgets/controls",
            "_model_module_version": "1.5.0",
            "_model_name": "FloatProgressModel",
            "_view_count": null,
            "_view_module": "@jupyter-widgets/controls",
            "_view_module_version": "1.5.0",
            "_view_name": "ProgressView",
            "bar_style": "success",
            "description": "",
            "description_tooltip": null,
            "layout": "IPY_MODEL_52cf81fd881b4253bb49755f520d0069",
            "max": 2275264008,
            "min": 0,
            "orientation": "horizontal",
            "style": "IPY_MODEL_76232f076e684df094aee2e53dae3660",
            "value": 2275264008
          }
        },
        "81cd154457f74ed9b483ac7bbb75aed3": {
          "model_module": "@jupyter-widgets/controls",
          "model_name": "HTMLModel",
          "model_module_version": "1.5.0",
          "state": {
            "_dom_classes": [],
            "_model_module": "@jupyter-widgets/controls",
            "_model_module_version": "1.5.0",
            "_model_name": "HTMLModel",
            "_view_count": null,
            "_view_module": "@jupyter-widgets/controls",
            "_view_module_version": "1.5.0",
            "_view_name": "HTMLView",
            "description": "",
            "description_tooltip": null,
            "layout": "IPY_MODEL_643cef8b9f0945f88d45a09030aea850",
            "placeholder": "​",
            "style": "IPY_MODEL_520b67deae494c51b97005206227bec1",
            "value": " 2.28G/2.28G [00:31&lt;00:00, 81.6MB/s]"
          }
        },
        "be7a7a4bdce84cf29ec8e5088bcf3025": {
          "model_module": "@jupyter-widgets/base",
          "model_name": "LayoutModel",
          "model_module_version": "1.2.0",
          "state": {
            "_model_module": "@jupyter-widgets/base",
            "_model_module_version": "1.2.0",
            "_model_name": "LayoutModel",
            "_view_count": null,
            "_view_module": "@jupyter-widgets/base",
            "_view_module_version": "1.2.0",
            "_view_name": "LayoutView",
            "align_content": null,
            "align_items": null,
            "align_self": null,
            "border": null,
            "bottom": null,
            "display": null,
            "flex": null,
            "flex_flow": null,
            "grid_area": null,
            "grid_auto_columns": null,
            "grid_auto_flow": null,
            "grid_auto_rows": null,
            "grid_column": null,
            "grid_gap": null,
            "grid_row": null,
            "grid_template_areas": null,
            "grid_template_columns": null,
            "grid_template_rows": null,
            "height": null,
            "justify_content": null,
            "justify_items": null,
            "left": null,
            "margin": null,
            "max_height": null,
            "max_width": null,
            "min_height": null,
            "min_width": null,
            "object_fit": null,
            "object_position": null,
            "order": null,
            "overflow": null,
            "overflow_x": null,
            "overflow_y": null,
            "padding": null,
            "right": null,
            "top": null,
            "visibility": null,
            "width": null
          }
        },
        "8fef7ca4e6a4401ab657bc7adb31fde6": {
          "model_module": "@jupyter-widgets/base",
          "model_name": "LayoutModel",
          "model_module_version": "1.2.0",
          "state": {
            "_model_module": "@jupyter-widgets/base",
            "_model_module_version": "1.2.0",
            "_model_name": "LayoutModel",
            "_view_count": null,
            "_view_module": "@jupyter-widgets/base",
            "_view_module_version": "1.2.0",
            "_view_name": "LayoutView",
            "align_content": null,
            "align_items": null,
            "align_self": null,
            "border": null,
            "bottom": null,
            "display": null,
            "flex": null,
            "flex_flow": null,
            "grid_area": null,
            "grid_auto_columns": null,
            "grid_auto_flow": null,
            "grid_auto_rows": null,
            "grid_column": null,
            "grid_gap": null,
            "grid_row": null,
            "grid_template_areas": null,
            "grid_template_columns": null,
            "grid_template_rows": null,
            "height": null,
            "justify_content": null,
            "justify_items": null,
            "left": null,
            "margin": null,
            "max_height": null,
            "max_width": null,
            "min_height": null,
            "min_width": null,
            "object_fit": null,
            "object_position": null,
            "order": null,
            "overflow": null,
            "overflow_x": null,
            "overflow_y": null,
            "padding": null,
            "right": null,
            "top": null,
            "visibility": null,
            "width": null
          }
        },
        "ceb495f297d749bc8dbb2a9419c181cf": {
          "model_module": "@jupyter-widgets/controls",
          "model_name": "DescriptionStyleModel",
          "model_module_version": "1.5.0",
          "state": {
            "_model_module": "@jupyter-widgets/controls",
            "_model_module_version": "1.5.0",
            "_model_name": "DescriptionStyleModel",
            "_view_count": null,
            "_view_module": "@jupyter-widgets/base",
            "_view_module_version": "1.2.0",
            "_view_name": "StyleView",
            "description_width": ""
          }
        },
        "52cf81fd881b4253bb49755f520d0069": {
          "model_module": "@jupyter-widgets/base",
          "model_name": "LayoutModel",
          "model_module_version": "1.2.0",
          "state": {
            "_model_module": "@jupyter-widgets/base",
            "_model_module_version": "1.2.0",
            "_model_name": "LayoutModel",
            "_view_count": null,
            "_view_module": "@jupyter-widgets/base",
            "_view_module_version": "1.2.0",
            "_view_name": "LayoutView",
            "align_content": null,
            "align_items": null,
            "align_self": null,
            "border": null,
            "bottom": null,
            "display": null,
            "flex": null,
            "flex_flow": null,
            "grid_area": null,
            "grid_auto_columns": null,
            "grid_auto_flow": null,
            "grid_auto_rows": null,
            "grid_column": null,
            "grid_gap": null,
            "grid_row": null,
            "grid_template_areas": null,
            "grid_template_columns": null,
            "grid_template_rows": null,
            "height": null,
            "justify_content": null,
            "justify_items": null,
            "left": null,
            "margin": null,
            "max_height": null,
            "max_width": null,
            "min_height": null,
            "min_width": null,
            "object_fit": null,
            "object_position": null,
            "order": null,
            "overflow": null,
            "overflow_x": null,
            "overflow_y": null,
            "padding": null,
            "right": null,
            "top": null,
            "visibility": null,
            "width": null
          }
        },
        "76232f076e684df094aee2e53dae3660": {
          "model_module": "@jupyter-widgets/controls",
          "model_name": "ProgressStyleModel",
          "model_module_version": "1.5.0",
          "state": {
            "_model_module": "@jupyter-widgets/controls",
            "_model_module_version": "1.5.0",
            "_model_name": "ProgressStyleModel",
            "_view_count": null,
            "_view_module": "@jupyter-widgets/base",
            "_view_module_version": "1.2.0",
            "_view_name": "StyleView",
            "bar_color": null,
            "description_width": ""
          }
        },
        "643cef8b9f0945f88d45a09030aea850": {
          "model_module": "@jupyter-widgets/base",
          "model_name": "LayoutModel",
          "model_module_version": "1.2.0",
          "state": {
            "_model_module": "@jupyter-widgets/base",
            "_model_module_version": "1.2.0",
            "_model_name": "LayoutModel",
            "_view_count": null,
            "_view_module": "@jupyter-widgets/base",
            "_view_module_version": "1.2.0",
            "_view_name": "LayoutView",
            "align_content": null,
            "align_items": null,
            "align_self": null,
            "border": null,
            "bottom": null,
            "display": null,
            "flex": null,
            "flex_flow": null,
            "grid_area": null,
            "grid_auto_columns": null,
            "grid_auto_flow": null,
            "grid_auto_rows": null,
            "grid_column": null,
            "grid_gap": null,
            "grid_row": null,
            "grid_template_areas": null,
            "grid_template_columns": null,
            "grid_template_rows": null,
            "height": null,
            "justify_content": null,
            "justify_items": null,
            "left": null,
            "margin": null,
            "max_height": null,
            "max_width": null,
            "min_height": null,
            "min_width": null,
            "object_fit": null,
            "object_position": null,
            "order": null,
            "overflow": null,
            "overflow_x": null,
            "overflow_y": null,
            "padding": null,
            "right": null,
            "top": null,
            "visibility": null,
            "width": null
          }
        },
        "520b67deae494c51b97005206227bec1": {
          "model_module": "@jupyter-widgets/controls",
          "model_name": "DescriptionStyleModel",
          "model_module_version": "1.5.0",
          "state": {
            "_model_module": "@jupyter-widgets/controls",
            "_model_module_version": "1.5.0",
            "_model_name": "DescriptionStyleModel",
            "_view_count": null,
            "_view_module": "@jupyter-widgets/base",
            "_view_module_version": "1.2.0",
            "_view_name": "StyleView",
            "description_width": ""
          }
        }
      }
    }
  },
  "nbformat": 4,
  "nbformat_minor": 0
}